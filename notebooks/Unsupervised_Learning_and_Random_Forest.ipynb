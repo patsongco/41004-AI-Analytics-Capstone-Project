{
  "nbformat": 4,
  "nbformat_minor": 0,
  "metadata": {
    "colab": {
      "name": "Unsupervised Learning and Random Forest.ipynb",
      "provenance": [],
      "collapsed_sections": []
    },
    "kernelspec": {
      "display_name": "Python 3",
      "name": "python3"
    },
    "language_info": {
      "name": "python"
    }
  },
  "cells": [
    {
      "cell_type": "markdown",
      "metadata": {
        "id": "bucFV2K9AoHz"
      },
      "source": [
        "# Modelling of Bot Accounts on Twitter Dataset"
      ]
    },
    {
      "cell_type": "code",
      "metadata": {
        "id": "mchDLqb_uwn7"
      },
      "source": [
        "# load dependencies\n",
        "import pandas as pd\n",
        "import numpy as np\n",
        "from sklearn.cluster import KMeans\n",
        "import matplotlib.pyplot as plt\n",
        "import seaborn as sns\n",
        "from sklearn.ensemble import IsolationForest\n",
        "from sklearn.svm import OneClassSVM\n",
        "from sklearn.neighbors import LocalOutlierFactor\n",
        "from sklearn.ensemble import RandomForestClassifier\n",
        "from sklearn.model_selection import train_test_split\n",
        "from sklearn.model_selection import RandomizedSearchCV\n",
        "from sklearn.metrics import classification_report\n",
        "from sklearn.decomposition import PCA"
      ],
      "execution_count": 76,
      "outputs": []
    },
    {
      "cell_type": "code",
      "metadata": {
        "colab": {
          "base_uri": "https://localhost:8080/"
        },
        "id": "rIghQ_hxvHFD",
        "outputId": "7b1a03a5-3554-4d08-f928-f3d6ec6ca11c"
      },
      "source": [
        "# initialise google drive\n",
        "from google.colab import drive\n",
        "drive.mount(\"/content/drive\")"
      ],
      "execution_count": 77,
      "outputs": [
        {
          "output_type": "stream",
          "text": [
            "Drive already mounted at /content/drive; to attempt to forcibly remount, call drive.mount(\"/content/drive\", force_remount=True).\n"
          ],
          "name": "stdout"
        }
      ]
    },
    {
      "cell_type": "code",
      "metadata": {
        "id": "yGPcG8cjwzFL"
      },
      "source": [
        "# load data from gdrive\n",
        "nodes = pd.read_csv('/content/drive/MyDrive/AI Capstone Project/final_cleaned_crypto_bernardamus_network_nodes (1).csv')\n",
        "edges = pd.read_csv('/content/drive/MyDrive/AI Capstone Project/final_cleaned_crypto_bernardamus_network_edges (1).csv')"
      ],
      "execution_count": 78,
      "outputs": []
    },
    {
      "cell_type": "code",
      "metadata": {
        "colab": {
          "base_uri": "https://localhost:8080/",
          "height": 214
        },
        "id": "2QY52gvsxwNr",
        "outputId": "2b1a0586-c077-416f-899b-55139d912cb7"
      },
      "source": [
        "nodes.head()"
      ],
      "execution_count": 79,
      "outputs": [
        {
          "output_type": "execute_result",
          "data": {
            "text/html": [
              "<div>\n",
              "<style scoped>\n",
              "    .dataframe tbody tr th:only-of-type {\n",
              "        vertical-align: middle;\n",
              "    }\n",
              "\n",
              "    .dataframe tbody tr th {\n",
              "        vertical-align: top;\n",
              "    }\n",
              "\n",
              "    .dataframe thead th {\n",
              "        text-align: right;\n",
              "    }\n",
              "</style>\n",
              "<table border=\"1\" class=\"dataframe\">\n",
              "  <thead>\n",
              "    <tr style=\"text-align: right;\">\n",
              "      <th></th>\n",
              "      <th>Unnamed: 0</th>\n",
              "      <th>Screen Name</th>\n",
              "      <th>Id</th>\n",
              "      <th>Age in Years</th>\n",
              "      <th># of Followers</th>\n",
              "      <th># of Followings</th>\n",
              "      <th>Follower/Following Ratio</th>\n",
              "      <th>URL</th>\n",
              "      <th>Verified</th>\n",
              "      <th>Number of Tweets</th>\n",
              "      <th># of liked Tweets</th>\n",
              "      <th># of lists</th>\n",
              "      <th>Botometer</th>\n",
              "      <th>Bot: 3.5 Threshold</th>\n",
              "      <th>Bot: 4.0 Threshold</th>\n",
              "    </tr>\n",
              "  </thead>\n",
              "  <tbody>\n",
              "    <tr>\n",
              "      <th>0</th>\n",
              "      <td>0</td>\n",
              "      <td>drumkitt87</td>\n",
              "      <td>14254757</td>\n",
              "      <td>13</td>\n",
              "      <td>321</td>\n",
              "      <td>649</td>\n",
              "      <td>0.49</td>\n",
              "      <td>0</td>\n",
              "      <td>0</td>\n",
              "      <td>3009</td>\n",
              "      <td>28401</td>\n",
              "      <td>6</td>\n",
              "      <td>0.7</td>\n",
              "      <td>0</td>\n",
              "      <td>0</td>\n",
              "    </tr>\n",
              "    <tr>\n",
              "      <th>1</th>\n",
              "      <td>1</td>\n",
              "      <td>cryptomichnl</td>\n",
              "      <td>146008010</td>\n",
              "      <td>11</td>\n",
              "      <td>181300</td>\n",
              "      <td>536</td>\n",
              "      <td>338.25</td>\n",
              "      <td>1</td>\n",
              "      <td>0</td>\n",
              "      <td>57312</td>\n",
              "      <td>43979</td>\n",
              "      <td>2367</td>\n",
              "      <td>0.9</td>\n",
              "      <td>0</td>\n",
              "      <td>0</td>\n",
              "    </tr>\n",
              "    <tr>\n",
              "      <th>2</th>\n",
              "      <td>2</td>\n",
              "      <td>fatihsk87</td>\n",
              "      <td>2665227374</td>\n",
              "      <td>7</td>\n",
              "      <td>73248</td>\n",
              "      <td>409</td>\n",
              "      <td>179.09</td>\n",
              "      <td>0</td>\n",
              "      <td>0</td>\n",
              "      <td>11859</td>\n",
              "      <td>7887</td>\n",
              "      <td>1882</td>\n",
              "      <td>0.3</td>\n",
              "      <td>0</td>\n",
              "      <td>0</td>\n",
              "    </tr>\n",
              "    <tr>\n",
              "      <th>3</th>\n",
              "      <td>3</td>\n",
              "      <td>sp889900</td>\n",
              "      <td>1065823520314140000</td>\n",
              "      <td>3</td>\n",
              "      <td>129</td>\n",
              "      <td>444</td>\n",
              "      <td>0.29</td>\n",
              "      <td>0</td>\n",
              "      <td>0</td>\n",
              "      <td>474</td>\n",
              "      <td>1438</td>\n",
              "      <td>0</td>\n",
              "      <td>1.6</td>\n",
              "      <td>0</td>\n",
              "      <td>0</td>\n",
              "    </tr>\n",
              "    <tr>\n",
              "      <th>4</th>\n",
              "      <td>4</td>\n",
              "      <td>rewardiqa</td>\n",
              "      <td>1200106100491720000</td>\n",
              "      <td>2</td>\n",
              "      <td>79551</td>\n",
              "      <td>90</td>\n",
              "      <td>883.90</td>\n",
              "      <td>1</td>\n",
              "      <td>0</td>\n",
              "      <td>45</td>\n",
              "      <td>98</td>\n",
              "      <td>14</td>\n",
              "      <td>1.6</td>\n",
              "      <td>0</td>\n",
              "      <td>0</td>\n",
              "    </tr>\n",
              "  </tbody>\n",
              "</table>\n",
              "</div>"
            ],
            "text/plain": [
              "   Unnamed: 0   Screen Name  ...  Bot: 3.5 Threshold  Bot: 4.0 Threshold\n",
              "0           0    drumkitt87  ...                   0                   0\n",
              "1           1  cryptomichnl  ...                   0                   0\n",
              "2           2     fatihsk87  ...                   0                   0\n",
              "3           3      sp889900  ...                   0                   0\n",
              "4           4     rewardiqa  ...                   0                   0\n",
              "\n",
              "[5 rows x 15 columns]"
            ]
          },
          "metadata": {
            "tags": []
          },
          "execution_count": 79
        }
      ]
    },
    {
      "cell_type": "code",
      "metadata": {
        "colab": {
          "base_uri": "https://localhost:8080/",
          "height": 197
        },
        "id": "MSl73cz3xzsS",
        "outputId": "c396bec8-8801-4da2-9910-4f4e215d472c"
      },
      "source": [
        "edges.head()"
      ],
      "execution_count": 80,
      "outputs": [
        {
          "output_type": "execute_result",
          "data": {
            "text/html": [
              "<div>\n",
              "<style scoped>\n",
              "    .dataframe tbody tr th:only-of-type {\n",
              "        vertical-align: middle;\n",
              "    }\n",
              "\n",
              "    .dataframe tbody tr th {\n",
              "        vertical-align: top;\n",
              "    }\n",
              "\n",
              "    .dataframe thead th {\n",
              "        text-align: right;\n",
              "    }\n",
              "</style>\n",
              "<table border=\"1\" class=\"dataframe\">\n",
              "  <thead>\n",
              "    <tr style=\"text-align: right;\">\n",
              "      <th></th>\n",
              "      <th>Unnamed: 0</th>\n",
              "      <th>Source</th>\n",
              "      <th>Target</th>\n",
              "      <th>hashtag</th>\n",
              "    </tr>\n",
              "  </thead>\n",
              "  <tbody>\n",
              "    <tr>\n",
              "      <th>0</th>\n",
              "      <td>0</td>\n",
              "      <td>drumkitt87</td>\n",
              "      <td>cryptomichnl</td>\n",
              "      <td>ethereum</td>\n",
              "    </tr>\n",
              "    <tr>\n",
              "      <th>1</th>\n",
              "      <td>1</td>\n",
              "      <td>drumkitt87</td>\n",
              "      <td>fatihsk87</td>\n",
              "      <td>ethereum</td>\n",
              "    </tr>\n",
              "    <tr>\n",
              "      <th>2</th>\n",
              "      <td>2</td>\n",
              "      <td>cryptomichnl</td>\n",
              "      <td>fatihsk87</td>\n",
              "      <td>ethereum</td>\n",
              "    </tr>\n",
              "    <tr>\n",
              "      <th>3</th>\n",
              "      <td>3</td>\n",
              "      <td>sp889900</td>\n",
              "      <td>rewardiqa</td>\n",
              "      <td>binance</td>\n",
              "    </tr>\n",
              "    <tr>\n",
              "      <th>4</th>\n",
              "      <td>4</td>\n",
              "      <td>sp889900</td>\n",
              "      <td>rewardiqa</td>\n",
              "      <td>rew</td>\n",
              "    </tr>\n",
              "  </tbody>\n",
              "</table>\n",
              "</div>"
            ],
            "text/plain": [
              "   Unnamed: 0        Source        Target   hashtag\n",
              "0           0    drumkitt87  cryptomichnl  ethereum\n",
              "1           1    drumkitt87     fatihsk87  ethereum\n",
              "2           2  cryptomichnl     fatihsk87  ethereum\n",
              "3           3      sp889900     rewardiqa   binance\n",
              "4           4      sp889900     rewardiqa       rew"
            ]
          },
          "metadata": {
            "tags": []
          },
          "execution_count": 80
        }
      ]
    },
    {
      "cell_type": "markdown",
      "metadata": {
        "id": "VUyARZJrA6zu"
      },
      "source": [
        "# Unsupervised Modelling Exploration"
      ]
    },
    {
      "cell_type": "code",
      "metadata": {
        "colab": {
          "base_uri": "https://localhost:8080/",
          "height": 214
        },
        "id": "lfV54fVdx45I",
        "outputId": "3707344f-ccf7-46f5-ff48-e459113e180b"
      },
      "source": [
        "# clean up data for unsupervised modelling\n",
        "nodes = nodes.drop(['Unnamed: 0', 'Id'], axis=1)\n",
        "nodes.head()"
      ],
      "execution_count": 81,
      "outputs": [
        {
          "output_type": "execute_result",
          "data": {
            "text/html": [
              "<div>\n",
              "<style scoped>\n",
              "    .dataframe tbody tr th:only-of-type {\n",
              "        vertical-align: middle;\n",
              "    }\n",
              "\n",
              "    .dataframe tbody tr th {\n",
              "        vertical-align: top;\n",
              "    }\n",
              "\n",
              "    .dataframe thead th {\n",
              "        text-align: right;\n",
              "    }\n",
              "</style>\n",
              "<table border=\"1\" class=\"dataframe\">\n",
              "  <thead>\n",
              "    <tr style=\"text-align: right;\">\n",
              "      <th></th>\n",
              "      <th>Screen Name</th>\n",
              "      <th>Age in Years</th>\n",
              "      <th># of Followers</th>\n",
              "      <th># of Followings</th>\n",
              "      <th>Follower/Following Ratio</th>\n",
              "      <th>URL</th>\n",
              "      <th>Verified</th>\n",
              "      <th>Number of Tweets</th>\n",
              "      <th># of liked Tweets</th>\n",
              "      <th># of lists</th>\n",
              "      <th>Botometer</th>\n",
              "      <th>Bot: 3.5 Threshold</th>\n",
              "      <th>Bot: 4.0 Threshold</th>\n",
              "    </tr>\n",
              "  </thead>\n",
              "  <tbody>\n",
              "    <tr>\n",
              "      <th>0</th>\n",
              "      <td>drumkitt87</td>\n",
              "      <td>13</td>\n",
              "      <td>321</td>\n",
              "      <td>649</td>\n",
              "      <td>0.49</td>\n",
              "      <td>0</td>\n",
              "      <td>0</td>\n",
              "      <td>3009</td>\n",
              "      <td>28401</td>\n",
              "      <td>6</td>\n",
              "      <td>0.7</td>\n",
              "      <td>0</td>\n",
              "      <td>0</td>\n",
              "    </tr>\n",
              "    <tr>\n",
              "      <th>1</th>\n",
              "      <td>cryptomichnl</td>\n",
              "      <td>11</td>\n",
              "      <td>181300</td>\n",
              "      <td>536</td>\n",
              "      <td>338.25</td>\n",
              "      <td>1</td>\n",
              "      <td>0</td>\n",
              "      <td>57312</td>\n",
              "      <td>43979</td>\n",
              "      <td>2367</td>\n",
              "      <td>0.9</td>\n",
              "      <td>0</td>\n",
              "      <td>0</td>\n",
              "    </tr>\n",
              "    <tr>\n",
              "      <th>2</th>\n",
              "      <td>fatihsk87</td>\n",
              "      <td>7</td>\n",
              "      <td>73248</td>\n",
              "      <td>409</td>\n",
              "      <td>179.09</td>\n",
              "      <td>0</td>\n",
              "      <td>0</td>\n",
              "      <td>11859</td>\n",
              "      <td>7887</td>\n",
              "      <td>1882</td>\n",
              "      <td>0.3</td>\n",
              "      <td>0</td>\n",
              "      <td>0</td>\n",
              "    </tr>\n",
              "    <tr>\n",
              "      <th>3</th>\n",
              "      <td>sp889900</td>\n",
              "      <td>3</td>\n",
              "      <td>129</td>\n",
              "      <td>444</td>\n",
              "      <td>0.29</td>\n",
              "      <td>0</td>\n",
              "      <td>0</td>\n",
              "      <td>474</td>\n",
              "      <td>1438</td>\n",
              "      <td>0</td>\n",
              "      <td>1.6</td>\n",
              "      <td>0</td>\n",
              "      <td>0</td>\n",
              "    </tr>\n",
              "    <tr>\n",
              "      <th>4</th>\n",
              "      <td>rewardiqa</td>\n",
              "      <td>2</td>\n",
              "      <td>79551</td>\n",
              "      <td>90</td>\n",
              "      <td>883.90</td>\n",
              "      <td>1</td>\n",
              "      <td>0</td>\n",
              "      <td>45</td>\n",
              "      <td>98</td>\n",
              "      <td>14</td>\n",
              "      <td>1.6</td>\n",
              "      <td>0</td>\n",
              "      <td>0</td>\n",
              "    </tr>\n",
              "  </tbody>\n",
              "</table>\n",
              "</div>"
            ],
            "text/plain": [
              "    Screen Name  Age in Years  ...  Bot: 3.5 Threshold  Bot: 4.0 Threshold\n",
              "0    drumkitt87            13  ...                   0                   0\n",
              "1  cryptomichnl            11  ...                   0                   0\n",
              "2     fatihsk87             7  ...                   0                   0\n",
              "3      sp889900             3  ...                   0                   0\n",
              "4     rewardiqa             2  ...                   0                   0\n",
              "\n",
              "[5 rows x 13 columns]"
            ]
          },
          "metadata": {
            "tags": []
          },
          "execution_count": 81
        }
      ]
    },
    {
      "cell_type": "code",
      "metadata": {
        "colab": {
          "base_uri": "https://localhost:8080/",
          "height": 573
        },
        "id": "O4qoc7tA4vws",
        "outputId": "c7cda8aa-6c69-409c-daca-61d09f49a8f1"
      },
      "source": [
        "# correlation matrix\n",
        "corrMatrix = nodes.corr()\n",
        "sns.set(font_scale=0.7, rc={'figure.figsize':(10,8)})\n",
        "sns.heatmap(corrMatrix, annot=True)\n",
        "plt.show()"
      ],
      "execution_count": 82,
      "outputs": [
        {
          "output_type": "display_data",
          "data": {
            "image/png": "[encoded data removed]",
            "text/plain": [
              "<Figure size 720x576 with 2 Axes>"
            ]
          },
          "metadata": {
            "tags": []
          }
        }
      ]
    },
    {
      "cell_type": "code",
      "metadata": {
        "colab": {
          "base_uri": "https://localhost:8080/",
          "height": 497
        },
        "id": "VEyWi0_z3Hbe",
        "outputId": "1b4fcf1a-c3da-4ef9-93e9-2cbb481f705f"
      },
      "source": [
        "# visualise lists to followings\n",
        "sns.scatterplot(x=nodes['# of lists'], y=nodes['# of Followings'])\n",
        "plt.show()"
      ],
      "execution_count": 83,
      "outputs": [
        {
          "output_type": "display_data",
          "data": {
            "image/png": "[encoded data removed]",
            "text/plain": [
              "<Figure size 720x576 with 1 Axes>"
            ]
          },
          "metadata": {
            "tags": []
          }
        }
      ]
    },
    {
      "cell_type": "code",
      "metadata": {
        "colab": {
          "base_uri": "https://localhost:8080/",
          "height": 497
        },
        "id": "FX4Xj1qMBuDx",
        "outputId": "0f730f29-bc67-4e91-8dc6-f22d9ac3245b"
      },
      "source": [
        "# visualise age to botometer score\n",
        "sns.scatterplot(x=nodes['Age in Years'], y=nodes['Botometer'])\n",
        "plt.show()"
      ],
      "execution_count": 84,
      "outputs": [
        {
          "output_type": "display_data",
          "data": {
            "image/png": "[encoded data removed]",
            "text/plain": [
              "<Figure size 720x576 with 1 Axes>"
            ]
          },
          "metadata": {
            "tags": []
          }
        }
      ]
    },
    {
      "cell_type": "markdown",
      "metadata": {
        "id": "Pw699qj9dK98"
      },
      "source": [
        "# Unsupervised Modelling\n",
        "\n",
        "Unsupervised modelling attempts, may generate interesting insights"
      ]
    },
    {
      "cell_type": "code",
      "metadata": {
        "colab": {
          "base_uri": "https://localhost:8080/",
          "height": 197
        },
        "id": "VGPsG36w1Glg",
        "outputId": "5df38bd1-26a5-4a9c-8e44-5e4775ed0f50"
      },
      "source": [
        "# cleaning data for unsupervised models\n",
        "unsup_nodes = nodes.copy()\n",
        "unsup_nodes = unsup_nodes.drop(['Screen Name', 'Botometer', 'Bot: 3.5 Threshold', 'Bot: 4.0 Threshold'], axis=1)\n",
        "unsup_nodes.head()"
      ],
      "execution_count": 85,
      "outputs": [
        {
          "output_type": "execute_result",
          "data": {
            "text/html": [
              "<div>\n",
              "<style scoped>\n",
              "    .dataframe tbody tr th:only-of-type {\n",
              "        vertical-align: middle;\n",
              "    }\n",
              "\n",
              "    .dataframe tbody tr th {\n",
              "        vertical-align: top;\n",
              "    }\n",
              "\n",
              "    .dataframe thead th {\n",
              "        text-align: right;\n",
              "    }\n",
              "</style>\n",
              "<table border=\"1\" class=\"dataframe\">\n",
              "  <thead>\n",
              "    <tr style=\"text-align: right;\">\n",
              "      <th></th>\n",
              "      <th>Age in Years</th>\n",
              "      <th># of Followers</th>\n",
              "      <th># of Followings</th>\n",
              "      <th>Follower/Following Ratio</th>\n",
              "      <th>URL</th>\n",
              "      <th>Verified</th>\n",
              "      <th>Number of Tweets</th>\n",
              "      <th># of liked Tweets</th>\n",
              "      <th># of lists</th>\n",
              "    </tr>\n",
              "  </thead>\n",
              "  <tbody>\n",
              "    <tr>\n",
              "      <th>0</th>\n",
              "      <td>13</td>\n",
              "      <td>321</td>\n",
              "      <td>649</td>\n",
              "      <td>0.49</td>\n",
              "      <td>0</td>\n",
              "      <td>0</td>\n",
              "      <td>3009</td>\n",
              "      <td>28401</td>\n",
              "      <td>6</td>\n",
              "    </tr>\n",
              "    <tr>\n",
              "      <th>1</th>\n",
              "      <td>11</td>\n",
              "      <td>181300</td>\n",
              "      <td>536</td>\n",
              "      <td>338.25</td>\n",
              "      <td>1</td>\n",
              "      <td>0</td>\n",
              "      <td>57312</td>\n",
              "      <td>43979</td>\n",
              "      <td>2367</td>\n",
              "    </tr>\n",
              "    <tr>\n",
              "      <th>2</th>\n",
              "      <td>7</td>\n",
              "      <td>73248</td>\n",
              "      <td>409</td>\n",
              "      <td>179.09</td>\n",
              "      <td>0</td>\n",
              "      <td>0</td>\n",
              "      <td>11859</td>\n",
              "      <td>7887</td>\n",
              "      <td>1882</td>\n",
              "    </tr>\n",
              "    <tr>\n",
              "      <th>3</th>\n",
              "      <td>3</td>\n",
              "      <td>129</td>\n",
              "      <td>444</td>\n",
              "      <td>0.29</td>\n",
              "      <td>0</td>\n",
              "      <td>0</td>\n",
              "      <td>474</td>\n",
              "      <td>1438</td>\n",
              "      <td>0</td>\n",
              "    </tr>\n",
              "    <tr>\n",
              "      <th>4</th>\n",
              "      <td>2</td>\n",
              "      <td>79551</td>\n",
              "      <td>90</td>\n",
              "      <td>883.90</td>\n",
              "      <td>1</td>\n",
              "      <td>0</td>\n",
              "      <td>45</td>\n",
              "      <td>98</td>\n",
              "      <td>14</td>\n",
              "    </tr>\n",
              "  </tbody>\n",
              "</table>\n",
              "</div>"
            ],
            "text/plain": [
              "   Age in Years  # of Followers  ...  # of liked Tweets  # of lists\n",
              "0            13             321  ...              28401           6\n",
              "1            11          181300  ...              43979        2367\n",
              "2             7           73248  ...               7887        1882\n",
              "3             3             129  ...               1438           0\n",
              "4             2           79551  ...                 98          14\n",
              "\n",
              "[5 rows x 9 columns]"
            ]
          },
          "metadata": {
            "tags": []
          },
          "execution_count": 85
        }
      ]
    },
    {
      "cell_type": "code",
      "metadata": {
        "colab": {
          "base_uri": "https://localhost:8080/"
        },
        "id": "e0ixzjUC8dx8",
        "outputId": "49d7d277-8505-47c6-fe23-a310699a9e0e"
      },
      "source": [
        "# view count of bot samples in original data with botometer\n",
        "bot_3_5 = sum(nodes['Bot: 3.5 Threshold'])\n",
        "bot_4 = sum(nodes['Bot: 4.0 Threshold'])\n",
        "print('Bot 3.5 Count: ', bot_3_5)\n",
        "print('Bot 4.0 Count: ', bot_4)"
      ],
      "execution_count": 86,
      "outputs": [
        {
          "output_type": "stream",
          "text": [
            "Bot 3.5 Count:  1156\n",
            "Bot 4.0 Count:  696\n"
          ],
          "name": "stdout"
        }
      ]
    },
    {
      "cell_type": "markdown",
      "metadata": {
        "id": "Zn2tLXRUlq3F"
      },
      "source": [
        "## KMeans Clustering"
      ]
    },
    {
      "cell_type": "code",
      "metadata": {
        "colab": {
          "base_uri": "https://localhost:8080/"
        },
        "id": "AXkZgsd0x4w9",
        "outputId": "135c9135-30ec-4a47-b575-e2e1e3e1c04b"
      },
      "source": [
        "# unsupervised models\n",
        "# k means clustering, sklearn default parameters\n",
        "\n",
        "kmeans = KMeans(n_clusters=2, random_state=0).fit_predict(unsup_nodes)\n",
        "unique, counts = np.unique(kmeans, return_counts=True)\n",
        "dict(zip(unique, counts))"
      ],
      "execution_count": 133,
      "outputs": [
        {
          "output_type": "execute_result",
          "data": {
            "text/plain": [
              "{0: 4913, 1: 11}"
            ]
          },
          "metadata": {
            "tags": []
          },
          "execution_count": 133
        }
      ]
    },
    {
      "cell_type": "code",
      "metadata": {
        "colab": {
          "base_uri": "https://localhost:8080/",
          "height": 559
        },
        "id": "19P469Z3DNwC",
        "outputId": "47a7c963-4b9d-4cbb-a148-9eb402f9bf9b"
      },
      "source": [
        "# pca transform data\n",
        "pca = PCA(2)\n",
        "pca_df = pca.fit_transform(unsup_nodes)\n",
        "label = KMeans(n_clusters=2, random_state=0).fit_predict(pca_df)\n",
        "# filter rows\n",
        "filtered_label0 = pca_df[label == 0]\n",
        "filtered_label1 = pca_df[label == 1]\n",
        "# check length of prediction\n",
        "print('Length of predictions: ', len(label))\n",
        "print('Length of Botometer labels: ', len(nodes['Bot: 4.0 Threshold']))\n",
        "print()\n",
        "# graph kmeans\n",
        "plt.subplot(1, 2, 1)\n",
        "plt.title('KMeans PCA')\n",
        "plt.scatter(filtered_label0[:,0] , filtered_label0[:,1] , color = 'green')\n",
        "plt.scatter(filtered_label1[:,0] , filtered_label1[:,1] , color = 'red')\n",
        "\n",
        "# view botometer version\n",
        "# colour labels by botometer threshold\n",
        "filtered_label0 = pca_df[label == 0]\n",
        "colours = []\n",
        "for idx, each in enumerate(pca_df):\n",
        "  if nodes['Bot: 4.0 Threshold'][idx] == 0:\n",
        "    colours.append('green')\n",
        "  else:\n",
        "    colours.append('red')\n",
        "# graph original\n",
        "plt.subplot(1, 2, 2)\n",
        "plt.title('Original PCA')\n",
        "plt.scatter(pca_df[:,0], pca_df[:,1], color = colours)\n",
        "plt.show()"
      ],
      "execution_count": 134,
      "outputs": [
        {
          "output_type": "stream",
          "text": [
            "Length of predictions:  4924\n",
            "Length of Botometer labels:  4924\n",
            "\n"
          ],
          "name": "stdout"
        },
        {
          "output_type": "display_data",
          "data": {
            "image/png": "[encoded data removed]",
            "text/plain": [
              "<Figure size 720x576 with 2 Axes>"
            ]
          },
          "metadata": {
            "tags": []
          }
        }
      ]
    },
    {
      "cell_type": "code",
      "metadata": {
        "id": "zo_GA22ByKsu"
      },
      "source": [
        "# function to evaluate performance of unsupervised learning\n",
        "# evaluate accuracy\n",
        "from sklearn.metrics import accuracy_score\n",
        "from sklearn.metrics import f1_score\n",
        "\n",
        "def unsup_eval(y_true, y_pred):\n",
        "  print('Accuracy: ', accuracy_score(y_true, y_pred))\n",
        "  print('F1 score: ', f1_score(y_true, y_pred))\n",
        "  print()\n",
        "  print('Classification Report')\n",
        "  print(classification_report(y_true, y_pred))"
      ],
      "execution_count": 135,
      "outputs": []
    },
    {
      "cell_type": "code",
      "metadata": {
        "colab": {
          "base_uri": "https://localhost:8080/"
        },
        "id": "7lL2FlhGveZM",
        "outputId": "74a446d9-129f-4de4-f20f-a2a6e203d100"
      },
      "source": [
        "# evaluate performance of kmeans\n",
        "unsup_eval(nodes['Bot: 4.0 Threshold'], kmeans)"
      ],
      "execution_count": 136,
      "outputs": [
        {
          "output_type": "stream",
          "text": [
            "Accuracy:  0.8568237205523964\n",
            "F1 score:  0.002828854314002829\n",
            "\n",
            "Classification Report\n",
            "              precision    recall  f1-score   support\n",
            "\n",
            "           0       0.86      1.00      0.92      4228\n",
            "           1       0.09      0.00      0.00       696\n",
            "\n",
            "    accuracy                           0.86      4924\n",
            "   macro avg       0.47      0.50      0.46      4924\n",
            "weighted avg       0.75      0.86      0.79      4924\n",
            "\n"
          ],
          "name": "stdout"
        }
      ]
    },
    {
      "cell_type": "code",
      "metadata": {
        "colab": {
          "base_uri": "https://localhost:8080/",
          "height": 574
        },
        "id": "WISgE7gA3GRQ",
        "outputId": "51db995d-8b93-4a9d-dccd-3de599442856"
      },
      "source": [
        "# get confusion matrix of kmeans\n",
        "from sklearn.metrics import confusion_matrix, ConfusionMatrixDisplay\n",
        "\n",
        "cm = confusion_matrix(nodes['Bot: 4.0 Threshold'], kmeans)\n",
        "disp = ConfusionMatrixDisplay(confusion_matrix=cm, display_labels=[0,1])\n",
        "fig, ax = plt.subplots(figsize=(10,10))\n",
        "disp.plot(cmap='Blues', values_format='d',ax=ax)\n",
        "plt.grid(None)\n",
        "plt.show()"
      ],
      "execution_count": 137,
      "outputs": [
        {
          "output_type": "display_data",
          "data": {
            "image/png": "[encoded data removed]",
            "text/plain": [
              "<Figure size 720x720 with 2 Axes>"
            ]
          },
          "metadata": {
            "tags": []
          }
        }
      ]
    },
    {
      "cell_type": "markdown",
      "metadata": {
        "id": "I3MgUgWSoOVf"
      },
      "source": [
        "## Isolation Forest"
      ]
    },
    {
      "cell_type": "code",
      "metadata": {
        "colab": {
          "base_uri": "https://localhost:8080/"
        },
        "id": "PDMmnFZ_-qja",
        "outputId": "f6d94dc9-4356-4654-be7a-f67160a52645"
      },
      "source": [
        "# try anomaly detection with outliers\n",
        "# isolation forest, random selection\n",
        "# 1 for inliers, -1 for outliers\n",
        "isoforest = IsolationForest(random_state=0).fit_predict(unsup_nodes)\n",
        "unique, counts = np.unique(isoforest, return_counts=True)\n",
        "dict(zip(unique, counts))"
      ],
      "execution_count": 138,
      "outputs": [
        {
          "output_type": "execute_result",
          "data": {
            "text/plain": [
              "{-1: 519, 1: 4405}"
            ]
          },
          "metadata": {
            "tags": []
          },
          "execution_count": 138
        }
      ]
    },
    {
      "cell_type": "code",
      "metadata": {
        "colab": {
          "base_uri": "https://localhost:8080/",
          "height": 559
        },
        "id": "fZg1SwNjoa7P",
        "outputId": "dd65a783-8a3f-4e24-818a-a2cbd11e0ad2"
      },
      "source": [
        "# pca transform data\n",
        "pca = PCA(2)\n",
        "pca_df = pca.fit_transform(unsup_nodes)\n",
        "label = IsolationForest(random_state=0).fit_predict(pca_df)\n",
        "# filter rows\n",
        "filtered_label0 = pca_df[label == -1]\n",
        "filtered_label1 = pca_df[label == 1]\n",
        "# check length of prediction\n",
        "print('Length of predictions: ', len(label))\n",
        "print('Length of Botometer labels: ', len(nodes['Bot: 4.0 Threshold']))\n",
        "print()\n",
        "# graph isolation forest\n",
        "plt.subplot(1, 2, 1)\n",
        "plt.title('Isolation Forest PCA')\n",
        "plt.scatter(filtered_label0[:,0] , filtered_label0[:,1] , color = 'green')\n",
        "plt.scatter(filtered_label1[:,0] , filtered_label1[:,1] , color = 'red')\n",
        "\n",
        "# view botometer version\n",
        "# colour labels by botometer threshold\n",
        "filtered_label0 = pca_df[label == 0]\n",
        "colours = []\n",
        "for idx, each in enumerate(pca_df):\n",
        "  if nodes['Bot: 4.0 Threshold'][idx] == 0:\n",
        "    colours.append('green')\n",
        "  else:\n",
        "    colours.append('red')\n",
        "# graph original\n",
        "plt.subplot(1, 2, 2)\n",
        "plt.title('Original PCA')\n",
        "plt.scatter(pca_df[:,0], pca_df[:,1], color = colours)\n",
        "plt.show()"
      ],
      "execution_count": 139,
      "outputs": [
        {
          "output_type": "stream",
          "text": [
            "Length of predictions:  4924\n",
            "Length of Botometer labels:  4924\n",
            "\n"
          ],
          "name": "stdout"
        },
        {
          "output_type": "display_data",
          "data": {
            "image/png": "[encoded data removed]",
            "text/plain": [
              "<Figure size 720x576 with 2 Axes>"
            ]
          },
          "metadata": {
            "tags": []
          }
        }
      ]
    },
    {
      "cell_type": "code",
      "metadata": {
        "colab": {
          "base_uri": "https://localhost:8080/"
        },
        "id": "5ZSbyKg7yvQF",
        "outputId": "0f2e266d-44ac-44f0-b52c-9c83c7ebb56c"
      },
      "source": [
        "# evaluate performance of isolation forest\n",
        "# 1 for inliers (humans), -1 for outliers (bots)\n",
        "label_isoforest = []\n",
        "for each in label:\n",
        "  if each == -1:\n",
        "    label_isoforest.append(1)\n",
        "  else:\n",
        "    label_isoforest.append(0)\n",
        "unsup_eval(nodes['Bot: 4.0 Threshold'], label_isoforest)"
      ],
      "execution_count": 140,
      "outputs": [
        {
          "output_type": "stream",
          "text": [
            "Accuracy:  0.8009748172217709\n",
            "F1 score:  0.09426987060998152\n",
            "\n",
            "Classification Report\n",
            "              precision    recall  f1-score   support\n",
            "\n",
            "           0       0.86      0.92      0.89      4228\n",
            "           1       0.13      0.07      0.09       696\n",
            "\n",
            "    accuracy                           0.80      4924\n",
            "   macro avg       0.49      0.50      0.49      4924\n",
            "weighted avg       0.76      0.80      0.78      4924\n",
            "\n"
          ],
          "name": "stdout"
        }
      ]
    },
    {
      "cell_type": "code",
      "metadata": {
        "colab": {
          "base_uri": "https://localhost:8080/",
          "height": 574
        },
        "id": "7fkAX4vk3VOq",
        "outputId": "14e62186-b252-4041-ee5d-3a62174fe8f8"
      },
      "source": [
        "# get confusion matrix of isolation forest\n",
        "from sklearn.metrics import confusion_matrix, ConfusionMatrixDisplay\n",
        "\n",
        "cm = confusion_matrix(nodes['Bot: 4.0 Threshold'], label_isoforest)\n",
        "disp = ConfusionMatrixDisplay(confusion_matrix=cm, display_labels=[0,1])\n",
        "fig, ax = plt.subplots(figsize=(10,10))\n",
        "disp.plot(cmap='Blues', values_format='d',ax=ax)\n",
        "plt.grid(None)\n",
        "plt.show()"
      ],
      "execution_count": 141,
      "outputs": [
        {
          "output_type": "display_data",
          "data": {
            "image/png": "[encoded data removed]",
            "text/plain": [
              "<Figure size 720x720 with 2 Axes>"
            ]
          },
          "metadata": {
            "tags": []
          }
        }
      ]
    },
    {
      "cell_type": "markdown",
      "metadata": {
        "id": "ZZteur2Xpn8c"
      },
      "source": [
        "## Local Outlier Factor"
      ]
    },
    {
      "cell_type": "code",
      "metadata": {
        "colab": {
          "base_uri": "https://localhost:8080/"
        },
        "id": "_RFYPe8ZAtKM",
        "outputId": "cb82b7de-1dcf-44b4-bf8d-2d524fcbe7f1"
      },
      "source": [
        "# local outlier factor\n",
        "# finding anomalous data points by measuring the local\n",
        "# deviation of a given data point with respect to its neighbours\n",
        "lof = LocalOutlierFactor().fit_predict(unsup_nodes)\n",
        "unique, counts = np.unique(lof, return_counts=True)\n",
        "dict(zip(unique, counts))"
      ],
      "execution_count": 146,
      "outputs": [
        {
          "output_type": "execute_result",
          "data": {
            "text/plain": [
              "{-1: 267, 1: 4657}"
            ]
          },
          "metadata": {
            "tags": []
          },
          "execution_count": 146
        }
      ]
    },
    {
      "cell_type": "code",
      "metadata": {
        "colab": {
          "base_uri": "https://localhost:8080/",
          "height": 559
        },
        "id": "MLxpIziWp2MX",
        "outputId": "b0c36f16-fff6-43b9-d354-8531981f676c"
      },
      "source": [
        "# lof transform data\n",
        "pca = PCA(2)\n",
        "pca_df = pca.fit_transform(unsup_nodes)\n",
        "label = LocalOutlierFactor().fit_predict(pca_df)\n",
        "# filter rows\n",
        "filtered_label0 = pca_df[label == -1]\n",
        "filtered_label1 = pca_df[label == 1]\n",
        "# check length of prediction\n",
        "print('Length of predictions: ', len(label))\n",
        "print('Length of Botometer labels: ', len(nodes['Bot: 4.0 Threshold']))\n",
        "print()\n",
        "# graph lof\n",
        "plt.subplot(1, 2, 1)\n",
        "plt.title('Local Outlier Factor PCA')\n",
        "plt.scatter(filtered_label0[:,0] , filtered_label0[:,1] , color = 'green')\n",
        "plt.scatter(filtered_label1[:,0] , filtered_label1[:,1] , color = 'red')\n",
        " \n",
        "# view botometer version\n",
        "# colour labels by botometer threshold\n",
        "filtered_label0 = pca_df[label == 0]\n",
        "colours = []\n",
        "for idx, each in enumerate(pca_df):\n",
        "  if nodes['Bot: 4.0 Threshold'][idx] == 0:\n",
        "    colours.append('green')\n",
        "  else:\n",
        "    colours.append('red')\n",
        "# graph original\n",
        "plt.subplot(1, 2, 2)\n",
        "plt.title('Original PCA')\n",
        "plt.scatter(pca_df[:,0], pca_df[:,1], color = colours)\n",
        "plt.show()"
      ],
      "execution_count": 147,
      "outputs": [
        {
          "output_type": "stream",
          "text": [
            "Length of predictions:  4924\n",
            "Length of Botometer labels:  4924\n",
            "\n"
          ],
          "name": "stdout"
        },
        {
          "output_type": "display_data",
          "data": {
            "image/png": "[encoded data removed]",
            "text/plain": [
              "<Figure size 720x576 with 2 Axes>"
            ]
          },
          "metadata": {
            "tags": []
          }
        }
      ]
    },
    {
      "cell_type": "code",
      "metadata": {
        "colab": {
          "base_uri": "https://localhost:8080/"
        },
        "id": "Rugq1RZa4kVP",
        "outputId": "2f57c7b8-5c66-4e6a-d280-6a75d9c23fed"
      },
      "source": [
        "# evaluate performance of local outlier factor\n",
        "# 1 for inliers (humans), -1 for outliers (bots)\n",
        "label_lof = []\n",
        "for each in label:\n",
        "  if each == -1:\n",
        "    label_lof.append(1)\n",
        "  else:\n",
        "    label_lof.append(0)\n",
        "unsup_eval(nodes['Bot: 4.0 Threshold'], label_lof)"
      ],
      "execution_count": 148,
      "outputs": [
        {
          "output_type": "stream",
          "text": [
            "Accuracy:  0.8436230706742486\n",
            "F1 score:  0.08333333333333333\n",
            "\n",
            "Classification Report\n",
            "              precision    recall  f1-score   support\n",
            "\n",
            "           0       0.86      0.97      0.91      4228\n",
            "           1       0.24      0.05      0.08       696\n",
            "\n",
            "    accuracy                           0.84      4924\n",
            "   macro avg       0.55      0.51      0.50      4924\n",
            "weighted avg       0.77      0.84      0.80      4924\n",
            "\n"
          ],
          "name": "stdout"
        }
      ]
    },
    {
      "cell_type": "code",
      "metadata": {
        "colab": {
          "base_uri": "https://localhost:8080/",
          "height": 574
        },
        "id": "KMqO1uun47Mn",
        "outputId": "cea5e61a-fc83-47eb-ddab-5f8de3ec0b86"
      },
      "source": [
        "# get confusion matrix of local outlier factor\n",
        "from sklearn.metrics import confusion_matrix, ConfusionMatrixDisplay\n",
        "\n",
        "cm = confusion_matrix(nodes['Bot: 4.0 Threshold'], label_lof)\n",
        "disp = ConfusionMatrixDisplay(confusion_matrix=cm, display_labels=[0,1])\n",
        "fig, ax = plt.subplots(figsize=(10,10))\n",
        "disp.plot(cmap='Blues', values_format='d',ax=ax)\n",
        "plt.grid(None)\n",
        "plt.show()"
      ],
      "execution_count": 149,
      "outputs": [
        {
          "output_type": "display_data",
          "data": {
            "image/png": "[encoded data removed]",
            "text/plain": [
              "<Figure size 720x720 with 2 Axes>"
            ]
          },
          "metadata": {
            "tags": []
          }
        }
      ]
    },
    {
      "cell_type": "markdown",
      "metadata": {
        "id": "qE4wuTPrdeJJ"
      },
      "source": [
        "# Supervised Modelling\n",
        "Experiments with supervised modelling, with a focus on Random Forest"
      ]
    },
    {
      "cell_type": "code",
      "metadata": {
        "id": "e0ngoN8tZPNi"
      },
      "source": [
        "# supervised model splitting\n",
        "# split out botometer label and remove unnecessary botometer scores\n",
        " \n",
        "labels1 = nodes['Bot: 3.5 Threshold']\n",
        "labels2 = nodes['Bot: 4.0 Threshold']\n",
        "sup_nodes = nodes.copy()\n",
        "sup_nodes = sup_nodes.drop(['Screen Name', 'Botometer', 'Bot: 3.5 Threshold', 'Bot: 4.0 Threshold'], axis=1)\n",
        " \n",
        "X_train, X_test, y_train, y_test = train_test_split(sup_nodes, labels1, test_size=0.3, random_state=0)"
      ],
      "execution_count": null,
      "outputs": []
    },
    {
      "cell_type": "code",
      "metadata": {
        "colab": {
          "base_uri": "https://localhost:8080/"
        },
        "id": "cL1VQ_sBBavD",
        "outputId": "54a2f9b2-98a1-4ae5-9f9f-bffbde955e8d"
      },
      "source": [
        "# code from: https://towardsdatascience.com/hyperparameter-tuning-the-random-forest-in-python-using-scikit-learn-28d2aa77dd74\n",
        "\n",
        "# random forest model on 3.5 threshold\n",
        "# uses randomsearch to optimize hyperparameters\n",
        "\n",
        "# Number of trees in random forest\n",
        "n_estimators = [int(x) for x in np.linspace(start = 200, stop = 2000, num = 10)]\n",
        "# Number of features to consider at every split\n",
        "max_features = ['auto', 'sqrt']\n",
        "# Maximum number of levels in tree\n",
        "max_depth = [int(x) for x in np.linspace(10, 110, num = 11)]\n",
        "max_depth.append(None)\n",
        "# Minimum number of samples required to split a node\n",
        "min_samples_split = [2, 5, 10]\n",
        "# Minimum number of samples required at each leaf node\n",
        "min_samples_leaf = [1, 2, 4]\n",
        "# Method of selecting samples for training each tree\n",
        "bootstrap = [True, False]\n",
        "# Create the random grid\n",
        "random_grid = {'n_estimators': n_estimators,\n",
        "               'max_features': max_features,\n",
        "               'max_depth': max_depth,\n",
        "               'min_samples_split': min_samples_split,\n",
        "               'min_samples_leaf': min_samples_leaf,\n",
        "               'bootstrap': bootstrap}\n",
        "\n",
        "# Use the random grid to search for best hyperparameters\n",
        "# First create the base model to tune\n",
        "rf = RandomForestClassifier()\n",
        "# Random search of parameters, using 3 fold cross validation, \n",
        "# search across 100 different combinations, and use all available cores\n",
        "rf_random = RandomizedSearchCV(estimator = rf, param_distributions = random_grid, n_iter = 20, cv = 3, verbose=2, random_state=0, n_jobs = -1)\n",
        "# Fit the random search model\n",
        "rf_random.fit(X_train, y_train)"
      ],
      "execution_count": null,
      "outputs": [
        {
          "output_type": "stream",
          "text": [
            "Fitting 3 folds for each of 20 candidates, totalling 60 fits\n"
          ],
          "name": "stdout"
        },
        {
          "output_type": "stream",
          "text": [
            "[Parallel(n_jobs=-1)]: Using backend LokyBackend with 2 concurrent workers.\n",
            "[Parallel(n_jobs=-1)]: Done  37 tasks      | elapsed:  3.5min\n",
            "[Parallel(n_jobs=-1)]: Done  60 out of  60 | elapsed:  5.5min finished\n"
          ],
          "name": "stderr"
        },
        {
          "output_type": "execute_result",
          "data": {
            "text/plain": [
              "RandomizedSearchCV(cv=3, error_score=nan,\n",
              "                   estimator=RandomForestClassifier(bootstrap=True,\n",
              "                                                    ccp_alpha=0.0,\n",
              "                                                    class_weight=None,\n",
              "                                                    criterion='gini',\n",
              "                                                    max_depth=None,\n",
              "                                                    max_features='auto',\n",
              "                                                    max_leaf_nodes=None,\n",
              "                                                    max_samples=None,\n",
              "                                                    min_impurity_decrease=0.0,\n",
              "                                                    min_impurity_split=None,\n",
              "                                                    min_samples_leaf=1,\n",
              "                                                    min_samples_split=2,\n",
              "                                                    min_weight_fraction_leaf=0.0,\n",
              "                                                    n_estimators=100,\n",
              "                                                    n_jobs...\n",
              "                   iid='deprecated', n_iter=20, n_jobs=-1,\n",
              "                   param_distributions={'bootstrap': [True, False],\n",
              "                                        'max_depth': [10, 20, 30, 40, 50, 60,\n",
              "                                                      70, 80, 90, 100, 110,\n",
              "                                                      None],\n",
              "                                        'max_features': ['auto', 'sqrt'],\n",
              "                                        'min_samples_leaf': [1, 2, 4],\n",
              "                                        'min_samples_split': [2, 5, 10],\n",
              "                                        'n_estimators': [200, 400, 600, 800,\n",
              "                                                         1000, 1200, 1400, 1600,\n",
              "                                                         1800, 2000]},\n",
              "                   pre_dispatch='2*n_jobs', random_state=0, refit=True,\n",
              "                   return_train_score=False, scoring=None, verbose=2)"
            ]
          },
          "metadata": {
            "tags": []
          },
          "execution_count": 33
        }
      ]
    },
    {
      "cell_type": "code",
      "metadata": {
        "colab": {
          "base_uri": "https://localhost:8080/"
        },
        "id": "EMUNKUEECtRP",
        "outputId": "f3bfdf22-2ff9-409d-e7d4-41b78de97fca"
      },
      "source": [
        "# parameters of best model\n",
        "rf_random.best_params_"
      ],
      "execution_count": null,
      "outputs": [
        {
          "output_type": "execute_result",
          "data": {
            "text/plain": [
              "{'bootstrap': True,\n",
              " 'max_depth': 110,\n",
              " 'max_features': 'auto',\n",
              " 'min_samples_leaf': 4,\n",
              " 'min_samples_split': 5,\n",
              " 'n_estimators': 400}"
            ]
          },
          "metadata": {
            "tags": []
          },
          "execution_count": 34
        }
      ]
    },
    {
      "cell_type": "code",
      "metadata": {
        "colab": {
          "base_uri": "https://localhost:8080/"
        },
        "id": "iXdl2STKC3ir",
        "outputId": "55545bed-69f7-40b6-eaa9-b48285021892"
      },
      "source": [
        "# evaluate results\n",
        "def evaluate(model, X_test, y_test):\n",
        "    score = model.score(X_test, y_test)\n",
        "    print('Model Performance')\n",
        "    print('Accuracy = {:0.2f}%.'.format(score*100))\n",
        "    print()\n",
        "    return score\n",
        "base_model = RandomForestClassifier(random_state = 0)\n",
        "base_model.fit(X_train, y_train)\n",
        "print('Base Model')\n",
        "base_accuracy = evaluate(base_model, X_test, y_test)\n",
        "pred = base_model.predict(X_test)\n",
        "\n",
        "best_random = rf_random.best_estimator_\n",
        "print('Random Model')\n",
        "bpred = best_random.predict(X_test)\n",
        "random_accuracy = evaluate(best_random, X_test, y_test)\n",
        "\n",
        "print('Improvement of {:0.2f}%.'.format( 100 * (random_accuracy - base_accuracy) / base_accuracy))"
      ],
      "execution_count": null,
      "outputs": [
        {
          "output_type": "stream",
          "text": [
            "Base Model\n",
            "Model Performance\n",
            "Accuracy = 83.36%.\n",
            "\n",
            "Random Model\n",
            "Model Performance\n",
            "Accuracy = 84.10%.\n",
            "\n",
            "Improvement of 0.89%.\n"
          ],
          "name": "stdout"
        }
      ]
    },
    {
      "cell_type": "code",
      "metadata": {
        "colab": {
          "base_uri": "https://localhost:8080/"
        },
        "id": "WBYr1JI0lUqy",
        "outputId": "83be4388-3b21-4026-f814-bf2bd1344ce3"
      },
      "source": [
        "# get a classification report\n",
        "print('3.5 Threshold')\n",
        "print('Base Model')\n",
        "print(classification_report(y_test, pred))\n",
        "print()\n",
        "print('Tuned Model')\n",
        "print(classification_report(y_test, bpred))"
      ],
      "execution_count": null,
      "outputs": [
        {
          "output_type": "stream",
          "text": [
            "3.5 Threshold\n",
            "Base Model\n",
            "              precision    recall  f1-score   support\n",
            "\n",
            "           0       0.86      0.94      0.89      1112\n",
            "           1       0.73      0.52      0.61       366\n",
            "\n",
            "    accuracy                           0.83      1478\n",
            "   macro avg       0.79      0.73      0.75      1478\n",
            "weighted avg       0.82      0.83      0.82      1478\n",
            "\n",
            "\n",
            "Tuned Model\n",
            "              precision    recall  f1-score   support\n",
            "\n",
            "           0       0.86      0.94      0.90      1112\n",
            "           1       0.76      0.53      0.62       366\n",
            "\n",
            "    accuracy                           0.84      1478\n",
            "   macro avg       0.81      0.74      0.76      1478\n",
            "weighted avg       0.83      0.84      0.83      1478\n",
            "\n"
          ],
          "name": "stdout"
        }
      ]
    },
    {
      "cell_type": "code",
      "metadata": {
        "colab": {
          "base_uri": "https://localhost:8080/",
          "height": 497
        },
        "id": "wbvsiQCrhq9S",
        "outputId": "4766a137-ba02-42cc-8f48-e7250d080cfb"
      },
      "source": [
        "# plot feature importance, base model\n",
        "df = pd.DataFrame({'Feature Importance':base_model.feature_importances_,\n",
        "                   'Labels':sup_nodes.columns})\n",
        "sns.barplot(x='Feature Importance', y='Labels', data=df, order=df.sort_values('Feature Importance',ascending = False).Labels)\n",
        "plt.show()"
      ],
      "execution_count": null,
      "outputs": [
        {
          "output_type": "display_data",
          "data": {
            "image/png": "[encoded data removed]",
            "text/plain": [
              "<Figure size 720x576 with 1 Axes>"
            ]
          },
          "metadata": {
            "tags": []
          }
        }
      ]
    },
    {
      "cell_type": "code",
      "metadata": {
        "colab": {
          "base_uri": "https://localhost:8080/",
          "height": 497
        },
        "id": "VeDBvx3tmxLl",
        "outputId": "aab35a3d-ad62-41ee-d022-8ddd95963ab5"
      },
      "source": [
        "# plot feature importance, tuned model\n",
        "df = pd.DataFrame({'Feature Importance':best_random.feature_importances_,\n",
        "                   'Labels':sup_nodes.columns})\n",
        "sns.barplot(x='Feature Importance', y='Labels', data=df, order=df.sort_values('Feature Importance',ascending = False).Labels)\n",
        "plt.show()"
      ],
      "execution_count": null,
      "outputs": [
        {
          "output_type": "display_data",
          "data": {
            "image/png": "[encoded data removed]",
            "text/plain": [
              "<Figure size 720x576 with 1 Axes>"
            ]
          },
          "metadata": {
            "tags": []
          }
        }
      ]
    },
    {
      "cell_type": "code",
      "metadata": {
        "colab": {
          "base_uri": "https://localhost:8080/"
        },
        "id": "eKEZk2jCAg13",
        "outputId": "881a1712-dccd-4131-9fc6-037870c8b933"
      },
      "source": [
        "# random forest model, 4.0 threshold\n",
        "X_train1, X_test1, y_train1, y_test1 = train_test_split(sup_nodes, labels2, test_size=0.3, random_state=0)\n",
        "rf1 = RandomForestClassifier()\n",
        "rf_random1 = RandomizedSearchCV(estimator = rf1, param_distributions = random_grid, n_iter = 20, cv = 3, verbose=2, random_state=0, n_jobs = -1)\n",
        "rf_random1.fit(X_train1, y_train1)"
      ],
      "execution_count": null,
      "outputs": [
        {
          "output_type": "stream",
          "text": [
            "Fitting 3 folds for each of 20 candidates, totalling 60 fits\n"
          ],
          "name": "stdout"
        },
        {
          "output_type": "stream",
          "text": [
            "[Parallel(n_jobs=-1)]: Using backend LokyBackend with 2 concurrent workers.\n",
            "[Parallel(n_jobs=-1)]: Done  37 tasks      | elapsed:  3.3min\n",
            "[Parallel(n_jobs=-1)]: Done  60 out of  60 | elapsed:  5.3min finished\n"
          ],
          "name": "stderr"
        },
        {
          "output_type": "execute_result",
          "data": {
            "text/plain": [
              "RandomizedSearchCV(cv=3, error_score=nan,\n",
              "                   estimator=RandomForestClassifier(bootstrap=True,\n",
              "                                                    ccp_alpha=0.0,\n",
              "                                                    class_weight=None,\n",
              "                                                    criterion='gini',\n",
              "                                                    max_depth=None,\n",
              "                                                    max_features='auto',\n",
              "                                                    max_leaf_nodes=None,\n",
              "                                                    max_samples=None,\n",
              "                                                    min_impurity_decrease=0.0,\n",
              "                                                    min_impurity_split=None,\n",
              "                                                    min_samples_leaf=1,\n",
              "                                                    min_samples_split=2,\n",
              "                                                    min_weight_fraction_leaf=0.0,\n",
              "                                                    n_estimators=100,\n",
              "                                                    n_jobs...\n",
              "                   iid='deprecated', n_iter=20, n_jobs=-1,\n",
              "                   param_distributions={'bootstrap': [True, False],\n",
              "                                        'max_depth': [10, 20, 30, 40, 50, 60,\n",
              "                                                      70, 80, 90, 100, 110,\n",
              "                                                      None],\n",
              "                                        'max_features': ['auto', 'sqrt'],\n",
              "                                        'min_samples_leaf': [1, 2, 4],\n",
              "                                        'min_samples_split': [2, 5, 10],\n",
              "                                        'n_estimators': [200, 400, 600, 800,\n",
              "                                                         1000, 1200, 1400, 1600,\n",
              "                                                         1800, 2000]},\n",
              "                   pre_dispatch='2*n_jobs', random_state=0, refit=True,\n",
              "                   return_train_score=False, scoring=None, verbose=2)"
            ]
          },
          "metadata": {
            "tags": []
          },
          "execution_count": 39
        }
      ]
    },
    {
      "cell_type": "code",
      "metadata": {
        "id": "o1j2CbZ5J-E6",
        "colab": {
          "base_uri": "https://localhost:8080/"
        },
        "outputId": "717156d2-9daa-4988-ea25-de9d19b432a0"
      },
      "source": [
        "# get parameters of best model\n",
        "rf_random1.best_params_"
      ],
      "execution_count": null,
      "outputs": [
        {
          "output_type": "execute_result",
          "data": {
            "text/plain": [
              "{'bootstrap': True,\n",
              " 'max_depth': 10,\n",
              " 'max_features': 'sqrt',\n",
              " 'min_samples_leaf': 1,\n",
              " 'min_samples_split': 2,\n",
              " 'n_estimators': 2000}"
            ]
          },
          "metadata": {
            "tags": []
          },
          "execution_count": 40
        }
      ]
    },
    {
      "cell_type": "code",
      "metadata": {
        "colab": {
          "base_uri": "https://localhost:8080/"
        },
        "id": "1NJiZvwvKBw7",
        "outputId": "aae3709b-b943-42a9-9822-6d8ae371368f"
      },
      "source": [
        "# evaluate results\n",
        "def evaluate(model, X_test1, y_test1):\n",
        "    score = model.score(X_test1, y_test1)\n",
        "    print('Model Performance')\n",
        "    print('Accuracy = {:0.2f}%.'.format(score*100))\n",
        "    print()\n",
        "    return score\n",
        "base_model = RandomForestClassifier(random_state = 0)\n",
        "base_model.fit(X_train1, y_train1)\n",
        "print('Base Model')\n",
        "base_accuracy = evaluate(base_model, X_test1, y_test1)\n",
        "pred1 = base_model.predict(X_test1)\n",
        "\n",
        "best_random = rf_random1.best_estimator_\n",
        "print('Tuned Model')\n",
        "bpred1 = best_random.predict(X_test1)\n",
        "random_accuracy = evaluate(best_random, X_test1, y_test1)\n",
        "\n",
        "print('Improvement of {:0.2f}%.'.format( 100 * (random_accuracy - base_accuracy) / base_accuracy))"
      ],
      "execution_count": null,
      "outputs": [
        {
          "output_type": "stream",
          "text": [
            "Base Model\n",
            "Model Performance\n",
            "Accuracy = 87.42%.\n",
            "\n",
            "Tuned Model\n",
            "Model Performance\n",
            "Accuracy = 88.09%.\n",
            "\n",
            "Improvement of 0.77%.\n"
          ],
          "name": "stdout"
        }
      ]
    },
    {
      "cell_type": "code",
      "metadata": {
        "colab": {
          "base_uri": "https://localhost:8080/"
        },
        "id": "JQEz1luAjR9y",
        "outputId": "429efe89-8eb3-432b-ef60-a8565bfdbd1c"
      },
      "source": [
        "# get classification report\n",
        "print('4.0 Threshold')\n",
        "print('Base Model')\n",
        "print(classification_report(y_test1, pred1))\n",
        "print()\n",
        "print('Tuned Model')\n",
        "print(classification_report(y_test1, bpred1))"
      ],
      "execution_count": null,
      "outputs": [
        {
          "output_type": "stream",
          "text": [
            "4.0 Threshold\n",
            "Base Model\n",
            "              precision    recall  f1-score   support\n",
            "\n",
            "           0       0.90      0.96      0.93      1257\n",
            "           1       0.64      0.37      0.47       221\n",
            "\n",
            "    accuracy                           0.87      1478\n",
            "   macro avg       0.77      0.67      0.70      1478\n",
            "weighted avg       0.86      0.87      0.86      1478\n",
            "\n",
            "\n",
            "Tuned Model\n",
            "              precision    recall  f1-score   support\n",
            "\n",
            "           0       0.90      0.97      0.93      1257\n",
            "           1       0.68      0.39      0.49       221\n",
            "\n",
            "    accuracy                           0.88      1478\n",
            "   macro avg       0.79      0.68      0.71      1478\n",
            "weighted avg       0.87      0.88      0.87      1478\n",
            "\n"
          ],
          "name": "stdout"
        }
      ]
    },
    {
      "cell_type": "code",
      "metadata": {
        "colab": {
          "base_uri": "https://localhost:8080/",
          "height": 497
        },
        "id": "MV-SqO7kx9Km",
        "outputId": "fffa67a1-7893-45a8-8d64-9f6d23522852"
      },
      "source": [
        "# plot feature importance, base model\n",
        "df = pd.DataFrame({'Feature Importance':base_model.feature_importances_,\n",
        "                   'Labels':sup_nodes.columns})\n",
        "sns.barplot(x='Feature Importance', y='Labels', data=df, order=df.sort_values('Feature Importance',ascending = False).Labels)\n",
        "plt.show()"
      ],
      "execution_count": null,
      "outputs": [
        {
          "output_type": "display_data",
          "data": {
            "image/png": "[encoded data removed]",
            "text/plain": [
              "<Figure size 720x576 with 1 Axes>"
            ]
          },
          "metadata": {
            "tags": []
          }
        }
      ]
    },
    {
      "cell_type": "code",
      "metadata": {
        "colab": {
          "base_uri": "https://localhost:8080/",
          "height": 497
        },
        "id": "2hu8rOh2x9yV",
        "outputId": "d98e2434-52a6-4d0d-8810-ea10b9ee89cf"
      },
      "source": [
        "# plot feature importance, tuned model\n",
        "df = pd.DataFrame({'Feature Importance':best_random.feature_importances_,\n",
        "                   'Labels':sup_nodes.columns})\n",
        "sns.barplot(x='Feature Importance', y='Labels', data=df, order=df.sort_values('Feature Importance',ascending = False).Labels)\n",
        "plt.show()"
      ],
      "execution_count": null,
      "outputs": [
        {
          "output_type": "display_data",
          "data": {
            "image/png": "[encoded data removed]",
            "text/plain": [
              "<Figure size 720x576 with 1 Axes>"
            ]
          },
          "metadata": {
            "tags": []
          }
        }
      ]
    },
    {
      "cell_type": "markdown",
      "metadata": {
        "id": "a51EFBLqVKf3"
      },
      "source": [
        "# Experiments with XGBoost\n",
        "Simple out-of-the-box classification"
      ]
    },
    {
      "cell_type": "code",
      "metadata": {
        "colab": {
          "base_uri": "https://localhost:8080/"
        },
        "id": "l_ovIXAHPUT8",
        "outputId": "702c9220-0219-4705-8372-9bc0f66fce36"
      },
      "source": [
        "import xgboost as xgb\n",
        "\n",
        "X_train, X_test, y_train, y_test = train_test_split(sup_nodes, labels2, stratify=labels2, test_size=0.3)\n",
        "D_train = xgb.DMatrix(X_train, label=y_train)\n",
        "D_test = xgb.DMatrix(X_test, label=y_test)\n",
        "\n",
        "param = {\n",
        "    'eta': 0.3, \n",
        "    'max_depth': 3,  \n",
        "    'objective': 'multi:softprob',  \n",
        "    'num_class': 3} \n",
        "\n",
        "steps = 20  # The number of training iterations\n",
        "\n",
        "model = xgb.train(param, D_train, steps)\n",
        "\n",
        "import numpy as np\n",
        "from sklearn.metrics import precision_score, recall_score, accuracy_score\n",
        "\n",
        "preds = model.predict(D_test)\n",
        "best_preds = np.asarray([np.argmax(line) for line in preds])\n",
        "\n",
        "print(\"Precision = {}\".format(precision_score(y_test, best_preds, average='macro')))\n",
        "print(\"Recall = {}\".format(recall_score(y_test, best_preds, average='macro')))\n",
        "print(\"Accuracy = {}\".format(accuracy_score(y_test, best_preds)))"
      ],
      "execution_count": null,
      "outputs": [
        {
          "output_type": "stream",
          "text": [
            "Precision = 0.7994655001231739\n",
            "Recall = 0.6512531059003623\n",
            "Accuracy = 0.8849797023004059\n"
          ],
          "name": "stdout"
        }
      ]
    },
    {
      "cell_type": "code",
      "metadata": {
        "colab": {
          "base_uri": "https://localhost:8080/"
        },
        "id": "1xvoF5N4jdud",
        "outputId": "9c530b72-1e6d-4136-f0e1-f2b12ca39c21"
      },
      "source": [
        "print(classification_report(y_test, best_preds))"
      ],
      "execution_count": null,
      "outputs": [
        {
          "output_type": "stream",
          "text": [
            "              precision    recall  f1-score   support\n",
            "\n",
            "           0       0.90      0.98      0.94      1269\n",
            "           1       0.70      0.33      0.44       209\n",
            "\n",
            "    accuracy                           0.88      1478\n",
            "   macro avg       0.80      0.65      0.69      1478\n",
            "weighted avg       0.87      0.88      0.87      1478\n",
            "\n"
          ],
          "name": "stdout"
        }
      ]
    },
    {
      "cell_type": "code",
      "metadata": {
        "colab": {
          "base_uri": "https://localhost:8080/"
        },
        "id": "wbybbroW4z3U",
        "outputId": "7b3e7737-4358-4c11-8d9b-6dcc1eadded4"
      },
      "source": [
        "# view count of human : bots\n",
        "count1 = nodes['Bot: 3.5 Threshold'].value_counts()\n",
        "total1 = round(count1[1]/(count1[0]+count1[1])*100, 2)\n",
        "count2 = nodes['Bot: 4.0 Threshold'].value_counts()\n",
        "total2 = round(count2[1]/(count2[0]+count2[1])*100, 2)\n",
        "\n",
        "print('3.5 Bots Percentage: ', total1)\n",
        "print('4.0 Bots Percentage: ', total2)"
      ],
      "execution_count": null,
      "outputs": [
        {
          "output_type": "stream",
          "text": [
            "3.5 Bots Percentage:  23.48\n",
            "4.0 Bots Percentage:  14.13\n"
          ],
          "name": "stdout"
        }
      ]
    },
    {
      "cell_type": "markdown",
      "metadata": {
        "id": "qzHIu9W7wGqV"
      },
      "source": [
        "# Experiments with Oversampling"
      ]
    },
    {
      "cell_type": "code",
      "metadata": {
        "colab": {
          "base_uri": "https://localhost:8080/"
        },
        "id": "K2DxMKBuwaWZ",
        "outputId": "6fdbd20a-95ca-4a56-bb1d-97d44b3310a8"
      },
      "source": [
        "# code from: https://towardsdatascience.com/smote-synthetic-data-augmentation-for-tabular-data-1ce28090debc#:~:text=SMOTE%20is%20an%20over%2Dsampling,on%20generating%20synthetic%20tabular%20data.&text=That%20is%2C%20for%20each%20one,new%20synthetic%20data%20is%20generated.\n",
        " \n",
        "from imblearn.over_sampling import SMOTE\n",
        "import math\n",
        " \n",
        "def smote(x, y):\n",
        "    # Synthetic Minority Over-samping Technique\n",
        "    # \n",
        "    # sampling_strategy: determines the portion of samples to \n",
        "    #                    generate with respect to the majority class\n",
        "    # k_neighbors : number of neighbors to be considered for each sample\n",
        "    \n",
        "    # For this example, only 1% of minoirty samples are considered\n",
        "    k_neighbors = math.ceil(sum(y) * 0.01)\n",
        "      \n",
        "    smote = SMOTE(sampling_strategy=1, \n",
        "                  k_neighbors=k_neighbors)\n",
        "    x, y = smote.fit_resample(x, y)\n",
        "    \n",
        "    return x, y\n",
        " \n",
        "# SMOTE oversampling implementation\n",
        "from imblearn.over_sampling import SMOTE\n",
        "# transform the dataset\n",
        "X, y = smote(sup_nodes, labels1)\n",
        "X_train2, X_test2, y_train2, y_test2 = train_test_split(X, y, test_size=0.3, random_state=0)"
      ],
      "execution_count": null,
      "outputs": [
        {
          "output_type": "stream",
          "text": [
            "/usr/local/lib/python3.7/dist-packages/sklearn/externals/six.py:31: FutureWarning: The module is deprecated in version 0.21 and will be removed in version 0.23 since we've dropped support for Python 2.7. Please rely on the official version of six (https://pypi.org/project/six/).\n",
            "  \"(https://pypi.org/project/six/).\", FutureWarning)\n",
            "/usr/local/lib/python3.7/dist-packages/sklearn/utils/deprecation.py:144: FutureWarning: The sklearn.neighbors.base module is  deprecated in version 0.22 and will be removed in version 0.24. The corresponding classes / functions should instead be imported from sklearn.neighbors. Anything that cannot be imported from sklearn.neighbors is now part of the private API.\n",
            "  warnings.warn(message, FutureWarning)\n",
            "/usr/local/lib/python3.7/dist-packages/sklearn/utils/deprecation.py:87: FutureWarning: Function safe_indexing is deprecated; safe_indexing is deprecated in version 0.22 and will be removed in version 0.24.\n",
            "  warnings.warn(msg, category=FutureWarning)\n"
          ],
          "name": "stderr"
        }
      ]
    },
    {
      "cell_type": "code",
      "metadata": {
        "colab": {
          "base_uri": "https://localhost:8080/"
        },
        "id": "tt-afUMVwbF1",
        "outputId": "e1bce586-0010-41b5-eeb5-ef1af898c144"
      },
      "source": [
        "# random forest model, 4.0 threshold\n",
        "rf2 = RandomForestClassifier()\n",
        "rf_random2 = RandomizedSearchCV(estimator = rf2, param_distributions = random_grid, n_iter = 20, cv = 3, verbose=2, random_state=0, n_jobs = -1)\n",
        "rf_random2.fit(X_train2, y_train2)"
      ],
      "execution_count": null,
      "outputs": [
        {
          "output_type": "stream",
          "text": [
            "Fitting 3 folds for each of 20 candidates, totalling 60 fits\n"
          ],
          "name": "stdout"
        },
        {
          "output_type": "stream",
          "text": [
            "[Parallel(n_jobs=-1)]: Using backend LokyBackend with 2 concurrent workers.\n",
            "[Parallel(n_jobs=-1)]: Done  37 tasks      | elapsed:  4.6min\n",
            "[Parallel(n_jobs=-1)]: Done  60 out of  60 | elapsed:  7.3min finished\n"
          ],
          "name": "stderr"
        },
        {
          "output_type": "execute_result",
          "data": {
            "text/plain": [
              "RandomizedSearchCV(cv=3, error_score=nan,\n",
              "                   estimator=RandomForestClassifier(bootstrap=True,\n",
              "                                                    ccp_alpha=0.0,\n",
              "                                                    class_weight=None,\n",
              "                                                    criterion='gini',\n",
              "                                                    max_depth=None,\n",
              "                                                    max_features='auto',\n",
              "                                                    max_leaf_nodes=None,\n",
              "                                                    max_samples=None,\n",
              "                                                    min_impurity_decrease=0.0,\n",
              "                                                    min_impurity_split=None,\n",
              "                                                    min_samples_leaf=1,\n",
              "                                                    min_samples_split=2,\n",
              "                                                    min_weight_fraction_leaf=0.0,\n",
              "                                                    n_estimators=100,\n",
              "                                                    n_jobs...\n",
              "                   iid='deprecated', n_iter=20, n_jobs=-1,\n",
              "                   param_distributions={'bootstrap': [True, False],\n",
              "                                        'max_depth': [10, 20, 30, 40, 50, 60,\n",
              "                                                      70, 80, 90, 100, 110,\n",
              "                                                      None],\n",
              "                                        'max_features': ['auto', 'sqrt'],\n",
              "                                        'min_samples_leaf': [1, 2, 4],\n",
              "                                        'min_samples_split': [2, 5, 10],\n",
              "                                        'n_estimators': [200, 400, 600, 800,\n",
              "                                                         1000, 1200, 1400, 1600,\n",
              "                                                         1800, 2000]},\n",
              "                   pre_dispatch='2*n_jobs', random_state=0, refit=True,\n",
              "                   return_train_score=False, scoring=None, verbose=2)"
            ]
          },
          "metadata": {
            "tags": []
          },
          "execution_count": 49
        }
      ]
    },
    {
      "cell_type": "code",
      "metadata": {
        "colab": {
          "base_uri": "https://localhost:8080/"
        },
        "id": "FUrphgHxwm-t",
        "outputId": "a05d2168-b5c1-440a-c684-9430f1c45879"
      },
      "source": [
        "# evaluate the results\n",
        "def evaluate(model, X_test2, y_test2):\n",
        "    score = model.score(X_test2, y_test2)\n",
        "    print('Model Performance')\n",
        "    print('Accuracy = {:0.2f}%.'.format(score*100))\n",
        "    print()\n",
        "    return score\n",
        "base_model = RandomForestClassifier(random_state = 0)\n",
        "base_model.fit(X_train2, y_train2)\n",
        "print('Base Model')\n",
        "base_accuracy = evaluate(base_model, X_test2, y_test2)\n",
        "pred2 = base_model.predict(X_test2)\n",
        "\n",
        "best_random = rf_random2.best_estimator_\n",
        "print('Tuned Model')\n",
        "bpred2 = best_random.predict(X_test2)\n",
        "random_accuracy = evaluate(best_random, X_test2, y_test2)\n",
        "\n",
        "print('Improvement of {:0.2f}%.'.format( 100 * (random_accuracy - base_accuracy) / base_accuracy))"
      ],
      "execution_count": null,
      "outputs": [
        {
          "output_type": "stream",
          "text": [
            "Base Model\n",
            "Model Performance\n",
            "Accuracy = 87.17%.\n",
            "\n",
            "Tuned Model\n",
            "Model Performance\n",
            "Accuracy = 87.35%.\n",
            "\n",
            "Improvement of 0.20%.\n"
          ],
          "name": "stdout"
        }
      ]
    },
    {
      "cell_type": "code",
      "metadata": {
        "colab": {
          "base_uri": "https://localhost:8080/"
        },
        "id": "NdB5JqUUwsLe",
        "outputId": "36ec94ac-dbce-4179-d782-04bd312cf0eb"
      },
      "source": [
        "# get classification report\n",
        "print('4.0 Threshold')\n",
        "print('Base Model')\n",
        "print(classification_report(y_test2, pred2))\n",
        "print()\n",
        "print('Tuned Model')\n",
        "print(classification_report(y_test2, bpred2))"
      ],
      "execution_count": null,
      "outputs": [
        {
          "output_type": "stream",
          "text": [
            "4.0 Threshold\n",
            "Base Model\n",
            "              precision    recall  f1-score   support\n",
            "\n",
            "           0       0.85      0.89      0.87      1104\n",
            "           1       0.89      0.85      0.87      1157\n",
            "\n",
            "    accuracy                           0.87      2261\n",
            "   macro avg       0.87      0.87      0.87      2261\n",
            "weighted avg       0.87      0.87      0.87      2261\n",
            "\n",
            "\n",
            "Tuned Model\n",
            "              precision    recall  f1-score   support\n",
            "\n",
            "           0       0.86      0.89      0.87      1104\n",
            "           1       0.89      0.86      0.87      1157\n",
            "\n",
            "    accuracy                           0.87      2261\n",
            "   macro avg       0.87      0.87      0.87      2261\n",
            "weighted avg       0.87      0.87      0.87      2261\n",
            "\n"
          ],
          "name": "stdout"
        }
      ]
    },
    {
      "cell_type": "markdown",
      "metadata": {
        "id": "P4aX5epz_iDA"
      },
      "source": [
        "# Final Unified Pre-processing Random Forest Model\n",
        "We will make use of a shared pre-processed dataset to better compare the results of different models across the project"
      ]
    },
    {
      "cell_type": "code",
      "metadata": {
        "id": "GkIYMtt-_nib"
      },
      "source": [
        "# load new imbalanced dataset\n",
        "# load from gdrive\n",
        "nodes_train = pd.read_csv('/content/drive/MyDrive/AI Capstone Project/nodes_train.csv')\n",
        "nodes_val = pd.read_csv('/content/drive/MyDrive/AI Capstone Project/nodes_validate.csv')\n",
        "nodes_test = pd.read_csv('/content/drive/MyDrive/AI Capstone Project/nodes_test.csv')\n",
        "\n",
        "# load new balanced dataset\n",
        "# data has been undersampled to handle the imbalanced dataset\n",
        "nodes_train_bal = pd.read_csv('/content/drive/MyDrive/AI Capstone Project/nodes_train_balanced.csv')\n",
        "nodes_val_bal = pd.read_csv('/content/drive/MyDrive/AI Capstone Project/nodes_validate_balanced.csv')\n",
        "nodes_test_bal = pd.read_csv('/content/drive/MyDrive/AI Capstone Project/nodes_test_balanced.csv')"
      ],
      "execution_count": null,
      "outputs": []
    },
    {
      "cell_type": "code",
      "metadata": {
        "colab": {
          "base_uri": "https://localhost:8080/",
          "height": 197
        },
        "id": "T1nlHMbRAAW-",
        "outputId": "e31e57a8-bd6c-4fac-cc1f-10aa277dfc55"
      },
      "source": [
        "nodes_train.head()"
      ],
      "execution_count": null,
      "outputs": [
        {
          "output_type": "execute_result",
          "data": {
            "text/html": [
              "<div>\n",
              "<style scoped>\n",
              "    .dataframe tbody tr th:only-of-type {\n",
              "        vertical-align: middle;\n",
              "    }\n",
              "\n",
              "    .dataframe tbody tr th {\n",
              "        vertical-align: top;\n",
              "    }\n",
              "\n",
              "    .dataframe thead th {\n",
              "        text-align: right;\n",
              "    }\n",
              "</style>\n",
              "<table border=\"1\" class=\"dataframe\">\n",
              "  <thead>\n",
              "    <tr style=\"text-align: right;\">\n",
              "      <th></th>\n",
              "      <th>Screen Name</th>\n",
              "      <th>Age in Years</th>\n",
              "      <th># of Followers</th>\n",
              "      <th># of Followings</th>\n",
              "      <th>Follower/Following Ratio</th>\n",
              "      <th>URL</th>\n",
              "      <th>Verified</th>\n",
              "      <th>Number of Tweets</th>\n",
              "      <th># of liked Tweets</th>\n",
              "      <th># of lists</th>\n",
              "      <th>Bot: 4.0 Threshold</th>\n",
              "    </tr>\n",
              "  </thead>\n",
              "  <tbody>\n",
              "    <tr>\n",
              "      <th>0</th>\n",
              "      <td>martybent</td>\n",
              "      <td>10</td>\n",
              "      <td>55197</td>\n",
              "      <td>2895</td>\n",
              "      <td>19.07</td>\n",
              "      <td>1</td>\n",
              "      <td>0</td>\n",
              "      <td>46702</td>\n",
              "      <td>110325</td>\n",
              "      <td>1407</td>\n",
              "      <td>0</td>\n",
              "    </tr>\n",
              "    <tr>\n",
              "      <th>1</th>\n",
              "      <td>smileym24</td>\n",
              "      <td>0</td>\n",
              "      <td>3</td>\n",
              "      <td>15</td>\n",
              "      <td>0.20</td>\n",
              "      <td>1</td>\n",
              "      <td>0</td>\n",
              "      <td>29</td>\n",
              "      <td>14</td>\n",
              "      <td>0</td>\n",
              "      <td>0</td>\n",
              "    </tr>\n",
              "    <tr>\n",
              "      <th>2</th>\n",
              "      <td>cybersecboardrm</td>\n",
              "      <td>7</td>\n",
              "      <td>44664</td>\n",
              "      <td>17526</td>\n",
              "      <td>2.55</td>\n",
              "      <td>1</td>\n",
              "      <td>0</td>\n",
              "      <td>76009</td>\n",
              "      <td>20938</td>\n",
              "      <td>2329</td>\n",
              "      <td>0</td>\n",
              "    </tr>\n",
              "    <tr>\n",
              "      <th>3</th>\n",
              "      <td>mickalamasse1</td>\n",
              "      <td>3</td>\n",
              "      <td>1817</td>\n",
              "      <td>2</td>\n",
              "      <td>908.50</td>\n",
              "      <td>1</td>\n",
              "      <td>0</td>\n",
              "      <td>16</td>\n",
              "      <td>19</td>\n",
              "      <td>1</td>\n",
              "      <td>0</td>\n",
              "    </tr>\n",
              "    <tr>\n",
              "      <th>4</th>\n",
              "      <td>durerus</td>\n",
              "      <td>8</td>\n",
              "      <td>1079</td>\n",
              "      <td>1071</td>\n",
              "      <td>1.01</td>\n",
              "      <td>0</td>\n",
              "      <td>0</td>\n",
              "      <td>24540</td>\n",
              "      <td>20052</td>\n",
              "      <td>48</td>\n",
              "      <td>0</td>\n",
              "    </tr>\n",
              "  </tbody>\n",
              "</table>\n",
              "</div>"
            ],
            "text/plain": [
              "       Screen Name  Age in Years  ...  # of lists  Bot: 4.0 Threshold\n",
              "0        martybent            10  ...        1407                   0\n",
              "1        smileym24             0  ...           0                   0\n",
              "2  cybersecboardrm             7  ...        2329                   0\n",
              "3    mickalamasse1             3  ...           1                   0\n",
              "4          durerus             8  ...          48                   0\n",
              "\n",
              "[5 rows x 11 columns]"
            ]
          },
          "metadata": {
            "tags": []
          },
          "execution_count": 53
        }
      ]
    },
    {
      "cell_type": "code",
      "metadata": {
        "colab": {
          "base_uri": "https://localhost:8080/"
        },
        "id": "qcVu9HFHOoDn",
        "outputId": "42f025c5-f678-4ea9-fab5-a7620aad6a2c"
      },
      "source": [
        "# compare number of samples between imbalanced and balanced dataset\n",
        "print(len(nodes_train))\n",
        "print(len(nodes_val))\n",
        "print(len(nodes_test))\n",
        "print()\n",
        "print(len(nodes_train_bal))\n",
        "print(len(nodes_val_bal))\n",
        "print(len(nodes_test_bal))"
      ],
      "execution_count": null,
      "outputs": [
        {
          "output_type": "stream",
          "text": [
            "2954\n",
            "985\n",
            "985\n",
            "\n",
            "834\n",
            "279\n",
            "279\n"
          ],
          "name": "stdout"
        }
      ]
    },
    {
      "cell_type": "code",
      "metadata": {
        "id": "-ulsBV3UFnRU"
      },
      "source": [
        "# separate out prediction labels\n",
        "lb_nodes_train = nodes_train['Bot: 4.0 Threshold']\n",
        "lb_nodes_val = nodes_val['Bot: 4.0 Threshold']\n",
        "lb_nodes_test = nodes_test['Bot: 4.0 Threshold']\n",
        "\n",
        "lb_nodes_train_bal = nodes_train_bal['Bot: 4.0 Threshold']\n",
        "lb_nodes_val_bal = nodes_val_bal['Bot: 4.0 Threshold']\n",
        "lb_nodes_test_bal = nodes_test_bal['Bot: 4.0 Threshold']"
      ],
      "execution_count": null,
      "outputs": []
    },
    {
      "cell_type": "code",
      "metadata": {
        "id": "EL2MrpyOCGWU"
      },
      "source": [
        "# remove screen name and labels from data, NLP analysis could potentially be employed for screen name\n",
        "nodes_train = nodes_train.drop(['Screen Name', 'Bot: 4.0 Threshold'], axis=1)\n",
        "nodes_val = nodes_val.drop(['Screen Name', 'Bot: 4.0 Threshold'], axis=1)\n",
        "nodes_test = nodes_test.drop(['Screen Name', 'Bot: 4.0 Threshold'], axis=1)\n",
        "\n",
        "nodes_train_bal = nodes_train_bal.drop(['Screen Name', 'Bot: 4.0 Threshold'], axis=1)\n",
        "nodes_val_bal = nodes_val_bal.drop(['Screen Name', 'Bot: 4.0 Threshold'], axis=1)\n",
        "nodes_test_bal = nodes_test_bal.drop(['Screen Name', 'Bot: 4.0 Threshold'], axis=1)"
      ],
      "execution_count": null,
      "outputs": []
    },
    {
      "cell_type": "markdown",
      "metadata": {
        "id": "Hoh9ad1gIYqN"
      },
      "source": [
        "## Imbalanced Dataset"
      ]
    },
    {
      "cell_type": "code",
      "metadata": {
        "colab": {
          "base_uri": "https://localhost:8080/"
        },
        "id": "EmlDBCupEjSC",
        "outputId": "0afbe454-1ff5-4599-9273-d4afb97c648c"
      },
      "source": [
        "# random forest model, 4.0 threshold, imbalanced\n",
        "rf3 = RandomForestClassifier()\n",
        "rf_random3 = RandomizedSearchCV(estimator = rf3, param_distributions = random_grid, n_iter = 20, cv = 3, verbose=2, random_state=0, n_jobs = -1)\n",
        "rf_random3.fit(nodes_train, lb_nodes_train)"
      ],
      "execution_count": null,
      "outputs": [
        {
          "output_type": "stream",
          "text": [
            "Fitting 3 folds for each of 20 candidates, totalling 60 fits\n"
          ],
          "name": "stdout"
        },
        {
          "output_type": "stream",
          "text": [
            "[Parallel(n_jobs=-1)]: Using backend LokyBackend with 2 concurrent workers.\n",
            "[Parallel(n_jobs=-1)]: Done  37 tasks      | elapsed:  3.0min\n",
            "[Parallel(n_jobs=-1)]: Done  60 out of  60 | elapsed:  4.7min finished\n"
          ],
          "name": "stderr"
        },
        {
          "output_type": "execute_result",
          "data": {
            "text/plain": [
              "RandomizedSearchCV(cv=3, error_score=nan,\n",
              "                   estimator=RandomForestClassifier(bootstrap=True,\n",
              "                                                    ccp_alpha=0.0,\n",
              "                                                    class_weight=None,\n",
              "                                                    criterion='gini',\n",
              "                                                    max_depth=None,\n",
              "                                                    max_features='auto',\n",
              "                                                    max_leaf_nodes=None,\n",
              "                                                    max_samples=None,\n",
              "                                                    min_impurity_decrease=0.0,\n",
              "                                                    min_impurity_split=None,\n",
              "                                                    min_samples_leaf=1,\n",
              "                                                    min_samples_split=2,\n",
              "                                                    min_weight_fraction_leaf=0.0,\n",
              "                                                    n_estimators=100,\n",
              "                                                    n_jobs...\n",
              "                   iid='deprecated', n_iter=20, n_jobs=-1,\n",
              "                   param_distributions={'bootstrap': [True, False],\n",
              "                                        'max_depth': [10, 20, 30, 40, 50, 60,\n",
              "                                                      70, 80, 90, 100, 110,\n",
              "                                                      None],\n",
              "                                        'max_features': ['auto', 'sqrt'],\n",
              "                                        'min_samples_leaf': [1, 2, 4],\n",
              "                                        'min_samples_split': [2, 5, 10],\n",
              "                                        'n_estimators': [200, 400, 600, 800,\n",
              "                                                         1000, 1200, 1400, 1600,\n",
              "                                                         1800, 2000]},\n",
              "                   pre_dispatch='2*n_jobs', random_state=0, refit=True,\n",
              "                   return_train_score=False, scoring=None, verbose=2)"
            ]
          },
          "metadata": {
            "tags": []
          },
          "execution_count": 57
        }
      ]
    },
    {
      "cell_type": "code",
      "metadata": {
        "colab": {
          "base_uri": "https://localhost:8080/"
        },
        "id": "6YWT9_IyHtE-",
        "outputId": "c0f13e7e-0cbc-4c7a-aa61-87cd6920c8ed"
      },
      "source": [
        "# evaluate results\n",
        "def evaluate(model, nodes_test, lb_nodes_test):\n",
        "    score = model.score(nodes_test, lb_nodes_test)\n",
        "    print('Model Performance')\n",
        "    print('Accuracy = {:0.2f}%.'.format(score*100))\n",
        "    print()\n",
        "    return score\n",
        "base_model = RandomForestClassifier(random_state = 0)\n",
        "base_model.fit(nodes_train, lb_nodes_train)\n",
        "print('Base Model')\n",
        "base_accuracy = evaluate(base_model, nodes_test, lb_nodes_test)\n",
        "pred3 = base_model.predict(nodes_test)\n",
        "\n",
        "best_random = rf_random3.best_estimator_\n",
        "print('Tuned Model')\n",
        "bpred3 = best_random.predict(nodes_test)\n",
        "random_accuracy = evaluate(best_random, nodes_test, lb_nodes_test)\n",
        "\n",
        "print('Improvement of {:0.2f}%.'.format( 100 * (random_accuracy - base_accuracy) / base_accuracy))"
      ],
      "execution_count": null,
      "outputs": [
        {
          "output_type": "stream",
          "text": [
            "Base Model\n",
            "Model Performance\n",
            "Accuracy = 89.14%.\n",
            "\n",
            "Tuned Model\n",
            "Model Performance\n",
            "Accuracy = 89.75%.\n",
            "\n",
            "Improvement of 0.68%.\n"
          ],
          "name": "stdout"
        }
      ]
    },
    {
      "cell_type": "code",
      "metadata": {
        "colab": {
          "base_uri": "https://localhost:8080/"
        },
        "id": "fo6E9IkXIPYQ",
        "outputId": "d501b149-9262-433e-cb41-10be4e112b7c"
      },
      "source": [
        "# get classification report\n",
        "print('4.0 Threshold')\n",
        "print('Base Model')\n",
        "print(classification_report(lb_nodes_test, pred3))\n",
        "print()\n",
        "print('Tuned Model')\n",
        "print(classification_report(lb_nodes_test, bpred3))"
      ],
      "execution_count": null,
      "outputs": [
        {
          "output_type": "stream",
          "text": [
            "4.0 Threshold\n",
            "Base Model\n",
            "              precision    recall  f1-score   support\n",
            "\n",
            "           0       0.91      0.97      0.94       850\n",
            "           1       0.69      0.37      0.48       135\n",
            "\n",
            "    accuracy                           0.89       985\n",
            "   macro avg       0.80      0.67      0.71       985\n",
            "weighted avg       0.88      0.89      0.88       985\n",
            "\n",
            "\n",
            "Tuned Model\n",
            "              precision    recall  f1-score   support\n",
            "\n",
            "           0       0.91      0.98      0.94       850\n",
            "           1       0.77      0.36      0.49       135\n",
            "\n",
            "    accuracy                           0.90       985\n",
            "   macro avg       0.84      0.67      0.72       985\n",
            "weighted avg       0.89      0.90      0.88       985\n",
            "\n"
          ],
          "name": "stdout"
        }
      ]
    },
    {
      "cell_type": "code",
      "metadata": {
        "colab": {
          "base_uri": "https://localhost:8080/"
        },
        "id": "2makzu2rMYmg",
        "outputId": "295f374e-a477-4085-dfa2-e9571c978573"
      },
      "source": [
        "# get averaged f1 score\n",
        "from sklearn.metrics import f1_score\n",
        "print('4.0 Threshold')\n",
        "print('Base Model')\n",
        "print(f1_score(lb_nodes_test, pred3))\n",
        "print()\n",
        "print('Tuned Model')\n",
        "print(f1_score(lb_nodes_test, bpred3))"
      ],
      "execution_count": null,
      "outputs": [
        {
          "output_type": "stream",
          "text": [
            "4.0 Threshold\n",
            "Base Model\n",
            "0.4830917874396135\n",
            "\n",
            "Tuned Model\n",
            "0.49246231155778897\n"
          ],
          "name": "stdout"
        }
      ]
    },
    {
      "cell_type": "code",
      "metadata": {
        "colab": {
          "base_uri": "https://localhost:8080/"
        },
        "id": "VYMvTro7Ir2S",
        "outputId": "36657063-dc85-40fe-b4a1-edbec1dc304d"
      },
      "source": [
        "# get best parameters of tuned model\n",
        "rf_random3.best_params_"
      ],
      "execution_count": null,
      "outputs": [
        {
          "output_type": "execute_result",
          "data": {
            "text/plain": [
              "{'bootstrap': True,\n",
              " 'max_depth': 40,\n",
              " 'max_features': 'sqrt',\n",
              " 'min_samples_leaf': 4,\n",
              " 'min_samples_split': 5,\n",
              " 'n_estimators': 1200}"
            ]
          },
          "metadata": {
            "tags": []
          },
          "execution_count": 61
        }
      ]
    },
    {
      "cell_type": "code",
      "metadata": {
        "colab": {
          "base_uri": "https://localhost:8080/",
          "height": 497
        },
        "id": "Qata2wbDIxW6",
        "outputId": "bf22b641-8da9-4a45-edc6-a09be6229570"
      },
      "source": [
        "# plot feature importance, tuned model, imbalanced dataset\n",
        "df = pd.DataFrame({'Feature Importance':best_random.feature_importances_,\n",
        "                   'Labels':sup_nodes.columns})\n",
        "sns.barplot(x='Feature Importance', y='Labels', data=df, order=df.sort_values('Feature Importance',ascending = False).Labels)\n",
        "plt.show()"
      ],
      "execution_count": null,
      "outputs": [
        {
          "output_type": "display_data",
          "data": {
            "image/png": "[encoded data removed]",
            "text/plain": [
              "<Figure size 720x576 with 1 Axes>"
            ]
          },
          "metadata": {
            "tags": []
          }
        }
      ]
    },
    {
      "cell_type": "code",
      "metadata": {
        "colab": {
          "base_uri": "https://localhost:8080/",
          "height": 574
        },
        "id": "o5t7Qmi2Xn2x",
        "outputId": "9b74d6af-fd39-445b-f675-241be6e73595"
      },
      "source": [
        "# get confusion matrix of best performing model, tuned model\n",
        "from sklearn.metrics import confusion_matrix, ConfusionMatrixDisplay\n",
        "\n",
        "cm = confusion_matrix(lb_nodes_test, bpred3)\n",
        "disp = ConfusionMatrixDisplay(confusion_matrix=cm, display_labels=[0,1])\n",
        "fig, ax = plt.subplots(figsize=(10,10))\n",
        "disp.plot(cmap='Blues', values_format='d',ax=ax)\n",
        "plt.grid(None)\n",
        "plt.show()"
      ],
      "execution_count": null,
      "outputs": [
        {
          "output_type": "display_data",
          "data": {
            "image/png": "[encoded data removed]",
            "text/plain": [
              "<Figure size 720x720 with 2 Axes>"
            ]
          },
          "metadata": {
            "tags": []
          }
        }
      ]
    },
    {
      "cell_type": "markdown",
      "metadata": {
        "id": "mHZ5wuhNIb9D"
      },
      "source": [
        "## Undersampled Dataset"
      ]
    },
    {
      "cell_type": "code",
      "metadata": {
        "colab": {
          "base_uri": "https://localhost:8080/"
        },
        "id": "Bbfea1HNIdyS",
        "outputId": "3af1bae4-0357-40c4-c2e3-ecc71622919d"
      },
      "source": [
        "# random forest model, 4.0 threshold, undersampled dataset\n",
        "rf4 = RandomForestClassifier()\n",
        "rf_random4 = RandomizedSearchCV(estimator = rf4, param_distributions = random_grid, n_iter = 20, cv = 3, verbose=2, random_state=0, n_jobs = -1)\n",
        "rf_random4.fit(nodes_train_bal, lb_nodes_train_bal)"
      ],
      "execution_count": null,
      "outputs": [
        {
          "output_type": "stream",
          "text": [
            "Fitting 3 folds for each of 20 candidates, totalling 60 fits\n"
          ],
          "name": "stdout"
        },
        {
          "output_type": "stream",
          "text": [
            "[Parallel(n_jobs=-1)]: Using backend LokyBackend with 2 concurrent workers.\n",
            "[Parallel(n_jobs=-1)]: Done  37 tasks      | elapsed:  1.2min\n",
            "[Parallel(n_jobs=-1)]: Done  60 out of  60 | elapsed:  2.1min finished\n"
          ],
          "name": "stderr"
        },
        {
          "output_type": "execute_result",
          "data": {
            "text/plain": [
              "RandomizedSearchCV(cv=3, error_score=nan,\n",
              "                   estimator=RandomForestClassifier(bootstrap=True,\n",
              "                                                    ccp_alpha=0.0,\n",
              "                                                    class_weight=None,\n",
              "                                                    criterion='gini',\n",
              "                                                    max_depth=None,\n",
              "                                                    max_features='auto',\n",
              "                                                    max_leaf_nodes=None,\n",
              "                                                    max_samples=None,\n",
              "                                                    min_impurity_decrease=0.0,\n",
              "                                                    min_impurity_split=None,\n",
              "                                                    min_samples_leaf=1,\n",
              "                                                    min_samples_split=2,\n",
              "                                                    min_weight_fraction_leaf=0.0,\n",
              "                                                    n_estimators=100,\n",
              "                                                    n_jobs...\n",
              "                   iid='deprecated', n_iter=20, n_jobs=-1,\n",
              "                   param_distributions={'bootstrap': [True, False],\n",
              "                                        'max_depth': [10, 20, 30, 40, 50, 60,\n",
              "                                                      70, 80, 90, 100, 110,\n",
              "                                                      None],\n",
              "                                        'max_features': ['auto', 'sqrt'],\n",
              "                                        'min_samples_leaf': [1, 2, 4],\n",
              "                                        'min_samples_split': [2, 5, 10],\n",
              "                                        'n_estimators': [200, 400, 600, 800,\n",
              "                                                         1000, 1200, 1400, 1600,\n",
              "                                                         1800, 2000]},\n",
              "                   pre_dispatch='2*n_jobs', random_state=0, refit=True,\n",
              "                   return_train_score=False, scoring=None, verbose=2)"
            ]
          },
          "metadata": {
            "tags": []
          },
          "execution_count": 63
        }
      ]
    },
    {
      "cell_type": "code",
      "metadata": {
        "colab": {
          "base_uri": "https://localhost:8080/"
        },
        "id": "FkGh1RnIImUv",
        "outputId": "19ca5a58-6564-4712-d4f1-db2941a1fcaa"
      },
      "source": [
        "# evaluate results\n",
        "def evaluate(model, nodes_test_bal, lb_nodes_test_bal):\n",
        "    score = model.score(nodes_test_bal, lb_nodes_test_bal)\n",
        "    print('Model Performance')\n",
        "    print('Accuracy = {:0.2f}%.'.format(score*100))\n",
        "    print()\n",
        "    return score\n",
        "base_model = RandomForestClassifier(random_state = 0)\n",
        "base_model.fit(nodes_train_bal, lb_nodes_train_bal)\n",
        "print('Base Model')\n",
        "base_accuracy = evaluate(base_model, nodes_test_bal, lb_nodes_test_bal)\n",
        "pred4 = base_model.predict(nodes_test_bal)\n",
        "\n",
        "best_random = rf_random4.best_estimator_\n",
        "print('Tuned Model')\n",
        "bpred4 = best_random.predict(nodes_test_bal)\n",
        "random_accuracy = evaluate(best_random, nodes_test_bal, lb_nodes_test_bal)\n",
        "\n",
        "print('Improvement of {:0.2f}%.'.format( 100 * (random_accuracy - base_accuracy) / base_accuracy))"
      ],
      "execution_count": null,
      "outputs": [
        {
          "output_type": "stream",
          "text": [
            "Base Model\n",
            "Model Performance\n",
            "Accuracy = 78.49%.\n",
            "\n",
            "Tuned Model\n",
            "Model Performance\n",
            "Accuracy = 77.78%.\n",
            "\n",
            "Improvement of -0.91%.\n"
          ],
          "name": "stdout"
        }
      ]
    },
    {
      "cell_type": "code",
      "metadata": {
        "colab": {
          "base_uri": "https://localhost:8080/"
        },
        "id": "mW8FEHXCKFEO",
        "outputId": "e29bedd3-bdd5-4c7d-aa19-e7540854e71a"
      },
      "source": [
        "# get classification report\n",
        "print('4.0 Threshold')\n",
        "print('Base Model')\n",
        "print(classification_report(lb_nodes_test_bal, pred4))\n",
        "print()\n",
        "print('Tuned Model')\n",
        "print(classification_report(lb_nodes_test_bal, bpred4))"
      ],
      "execution_count": null,
      "outputs": [
        {
          "output_type": "stream",
          "text": [
            "4.0 Threshold\n",
            "Base Model\n",
            "              precision    recall  f1-score   support\n",
            "\n",
            "           0       0.77      0.84      0.80       146\n",
            "           1       0.81      0.72      0.76       133\n",
            "\n",
            "    accuracy                           0.78       279\n",
            "   macro avg       0.79      0.78      0.78       279\n",
            "weighted avg       0.79      0.78      0.78       279\n",
            "\n",
            "\n",
            "Tuned Model\n",
            "              precision    recall  f1-score   support\n",
            "\n",
            "           0       0.77      0.83      0.80       146\n",
            "           1       0.79      0.72      0.76       133\n",
            "\n",
            "    accuracy                           0.78       279\n",
            "   macro avg       0.78      0.78      0.78       279\n",
            "weighted avg       0.78      0.78      0.78       279\n",
            "\n"
          ],
          "name": "stdout"
        }
      ]
    },
    {
      "cell_type": "code",
      "metadata": {
        "colab": {
          "base_uri": "https://localhost:8080/"
        },
        "id": "JCZdVgbbMuUU",
        "outputId": "235237a1-6df5-4573-8da5-e23235e71bbe"
      },
      "source": [
        "# get averaged f1 score\n",
        "print('4.0 Threshold')\n",
        "print('Base Model')\n",
        "print(f1_score(lb_nodes_test_bal, pred4))\n",
        "print()\n",
        "print('Tuned Model')\n",
        "print(f1_score(lb_nodes_test_bal, bpred4))"
      ],
      "execution_count": null,
      "outputs": [
        {
          "output_type": "stream",
          "text": [
            "4.0 Threshold\n",
            "Base Model\n",
            "0.7619047619047619\n",
            "\n",
            "Tuned Model\n",
            "0.7559055118110235\n"
          ],
          "name": "stdout"
        }
      ]
    },
    {
      "cell_type": "code",
      "metadata": {
        "colab": {
          "base_uri": "https://localhost:8080/"
        },
        "id": "c88Gyp-OKH5l",
        "outputId": "4c3824a5-2d06-406c-cfdc-a571899f0377"
      },
      "source": [
        "# get parameters of best performing model between untuned and tuned, in this case, from untuned\n",
        "base_model.get_params()"
      ],
      "execution_count": null,
      "outputs": [
        {
          "output_type": "execute_result",
          "data": {
            "text/plain": [
              "{'bootstrap': True,\n",
              " 'ccp_alpha': 0.0,\n",
              " 'class_weight': None,\n",
              " 'criterion': 'gini',\n",
              " 'max_depth': None,\n",
              " 'max_features': 'auto',\n",
              " 'max_leaf_nodes': None,\n",
              " 'max_samples': None,\n",
              " 'min_impurity_decrease': 0.0,\n",
              " 'min_impurity_split': None,\n",
              " 'min_samples_leaf': 1,\n",
              " 'min_samples_split': 2,\n",
              " 'min_weight_fraction_leaf': 0.0,\n",
              " 'n_estimators': 100,\n",
              " 'n_jobs': None,\n",
              " 'oob_score': False,\n",
              " 'random_state': 0,\n",
              " 'verbose': 0,\n",
              " 'warm_start': False}"
            ]
          },
          "metadata": {
            "tags": []
          },
          "execution_count": 67
        }
      ]
    },
    {
      "cell_type": "code",
      "metadata": {
        "colab": {
          "base_uri": "https://localhost:8080/",
          "height": 497
        },
        "id": "0Sd0M4jLKOWF",
        "outputId": "b93e7c7a-af0d-40aa-ff71-bf07b062c089"
      },
      "source": [
        "# plot feature importance, untuned model, balanced dataset\n",
        "df = pd.DataFrame({'Feature Importance':base_model.feature_importances_,\n",
        "                   'Labels':sup_nodes.columns})\n",
        "sns.barplot(x='Feature Importance', y='Labels', data=df, order=df.sort_values('Feature Importance',ascending = False).Labels)\n",
        "plt.show()"
      ],
      "execution_count": null,
      "outputs": [
        {
          "output_type": "display_data",
          "data": {
            "image/png": "[encoded data removed]",
            "text/plain": [
              "<Figure size 720x576 with 1 Axes>"
            ]
          },
          "metadata": {
            "tags": []
          }
        }
      ]
    },
    {
      "cell_type": "code",
      "metadata": {
        "colab": {
          "base_uri": "https://localhost:8080/",
          "height": 575
        },
        "id": "BXEYzGvyOh2b",
        "outputId": "1e41079d-dae0-402d-a6ee-d8dbd9e5aceb"
      },
      "source": [
        "# get confusion matrix of best performing model, untuned model\n",
        "from sklearn.metrics import confusion_matrix, ConfusionMatrixDisplay\n",
        "\n",
        "cm = confusion_matrix(lb_nodes_test_bal, pred4)\n",
        "disp = ConfusionMatrixDisplay(confusion_matrix=cm, display_labels=[0,1])\n",
        "fig, ax = plt.subplots(figsize=(10,10))\n",
        "disp.plot(cmap='Blues', values_format='d',ax=ax)\n",
        "plt.grid(None)\n",
        "plt.show()"
      ],
      "execution_count": null,
      "outputs": [
        {
          "output_type": "display_data",
          "data": {
            "image/png": "[encoded data removed]",
            "text/plain": [
              "<Figure size 720x720 with 2 Axes>"
            ]
          },
          "metadata": {
            "tags": []
          }
        }
      ]
    }
  ]
}