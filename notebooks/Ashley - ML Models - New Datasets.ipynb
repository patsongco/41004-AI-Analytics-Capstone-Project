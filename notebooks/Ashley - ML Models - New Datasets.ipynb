{
 "cells": [
  {
   "cell_type": "markdown",
   "metadata": {},
   "source": [
    "# Table of Contents\n",
    "\n",
    "* [Initial Analytics and Visualisation](#chapter1)\n",
    "    * [Load Dataframe](#section_1_1)\n",
    "* [Machine Learning Models - Imbalanced Data](#chapter2)\n",
    "    * [Model Data Preprocessing](#section_2_1)\n",
    "    * [Logistic Regression](#section_2_2)\n",
    "        * [LR Hold-out Validation](#section_2_2_1)\n",
    "        * [LR Confusion Matrix](#section_2_2_2)\n",
    "        * [LR Classification Report](#section_2_2_3)\n",
    "        * [LR Accuracy Score](#section_2_2_4)\n",
    "        * [LR Important Features](#section_2_2_5)\n",
    "        * [LR Cross Validation](#section_2_2_6) \n",
    "    * [Gradient Boosting](#section_2_3)\n",
    "        * [GB Hold-out Validation](#section_2_3_1)\n",
    "        * [GB Confusion Matrix](#section_2_3_2)\n",
    "        * [GB Classification Report](#section_2_3_3)\n",
    "        * [GB Accuracy Score](#section_2_3_4)\n",
    "        * [GB Important Features](#section_2_3_5)\n",
    "        * [GB Cross Validation](#section_2_3_6)\n",
    "    * [Decision Tree](#section_2_4)\n",
    "        * [DT Hold-out Validation](#section_2_4_1)\n",
    "        * [DT Confusion Matrix](#section_2_4_2)\n",
    "        * [DT Classification Report](#section_2_4_3)\n",
    "        * [DT Accuracy Score](#section_2_4_4)\n",
    "        * [DT Important Features](#section_2_4_5)\n",
    "        * [DT ROC Curve](#section_2_4_6)\n",
    "* [Machine Learning Models - Balanced Data](#chapter3)\n",
    "    * [Logistic Regression](#section_3_1)\n",
    "        * [LR Hold-out Validation](#section_3_1_1)\n",
    "        * [LR Confusion Matrix](#section_3_1_2)\n",
    "        * [LR Classification Report](#section_3_1_3)\n",
    "        * [LR Accuracy Score](#section_3_1_4)\n",
    "        * [LR Important Features](#section_3_1_5)\n",
    "        * [LR Cross Validation](#section_3_1_6)\n",
    "    * [Gradient Boosting](#section_3_2)\n",
    "        * [GB Hold-out Validation](#section_3_2_1)\n",
    "        * [GB Confusion Matrix](#section_3_2_2)\n",
    "        * [GB Classification Report](#section_3_2_3)\n",
    "        * [GB Accuracy Score](#section_3_2_4)\n",
    "        * [GB Important Features](#section_3_2_5)\n",
    "        * [GB Cross Validation](#section_3_2_6)\n",
    "    * [Decision Tree](#section_3_3)\n",
    "        * [DT Hold-out Validation](#section_3_3_1)\n",
    "        * [DT Confusion Matrix](#section_3_3_2)\n",
    "        * [DT Classification Report](#section_3_3_3)\n",
    "        * [DT Accuracy Score](#section_3_3_4)\n",
    "        * [DT Important Features](#section_3_3_5)\n",
    "        * [DT ROC Curve](#section_3_3_6)\n",
    "* [Results Comparison of Balanced and Imbalanced Dataset](#chapter4)\n",
    "    * [Logistic Regression](#section_4_1)\n",
    "    * [Gradient Boosting](#section_4_2)\n",
    "    * [Decision Tree](#section_4_3)"
   ]
  },
  {
   "cell_type": "markdown",
   "metadata": {},
   "source": [
    "# Initial Analytics and Visualisation <a class=\"anchor\" id=\"chapter1\"></a>"
   ]
  },
  {
   "cell_type": "markdown",
   "metadata": {},
   "source": [
    "## Load Dataframe <a class=\"anchor\" id=\"section_1_1\"></a>"
   ]
  },
  {
   "cell_type": "code",
   "execution_count": 1,
   "metadata": {},
   "outputs": [],
   "source": [
    "import os\n",
    "import numpy as np\n",
    "from time import time\n",
    "import pandas as pd\n",
    "import seaborn as sns\n",
    "import matplotlib.pyplot as plt\n",
    "import itertools\n",
    "import quantecon as qe\n",
    "from dython.nominal import associations\n",
    "%matplotlib inline\n",
    "\n",
    "from sklearn import tree\n",
    "from sklearn.model_selection import train_test_split, cross_val_score\n",
    "from sklearn.linear_model import LogisticRegression\n",
    "from sklearn.preprocessing import StandardScaler, MinMaxScaler\n",
    "from sklearn.metrics import r2_score, confusion_matrix, classification_report, accuracy_score\n",
    "from sklearn.ensemble import RandomForestClassifier, GradientBoostingClassifier\n",
    "from sklearn.tree import DecisionTreeClassifier\n",
    "from sklearn.metrics import roc_curve, auc, roc_auc_score\n",
    "import seaborn as sns\n",
    "from sklearn import metrics"
   ]
  },
  {
   "cell_type": "code",
   "execution_count": 2,
   "metadata": {},
   "outputs": [],
   "source": [
    "# Load dataframe from csv file\n",
    "df = pd.read_csv(\"final_cleaned_crypto_bernardamus_network_nodes.csv\")\n",
    "train = pd.read_csv(\"nodes_train.csv\")\n",
    "train_bal = pd.read_csv(\"nodes_train_balanced.csv\")\n",
    "test = pd.read_csv(\"nodes_test.csv\")\n",
    "test_bal = pd.read_csv(\"nodes_test_balanced.csv\")\n",
    "val = pd.read_csv(\"nodes_validate.csv\")\n",
    "val_bal = pd.read_csv(\"nodes_validate_balanced.csv\")"
   ]
  },
  {
   "cell_type": "code",
   "execution_count": 3,
   "metadata": {},
   "outputs": [
    {
     "name": "stdout",
     "output_type": "stream",
     "text": [
      "<class 'pandas.core.frame.DataFrame'>\n",
      "RangeIndex: 2954 entries, 0 to 2953\n",
      "Data columns (total 11 columns):\n",
      " #   Column                    Non-Null Count  Dtype  \n",
      "---  ------                    --------------  -----  \n",
      " 0   Screen Name               2954 non-null   object \n",
      " 1   Age in Years              2954 non-null   int64  \n",
      " 2   # of Followers            2954 non-null   int64  \n",
      " 3   # of Followings           2954 non-null   int64  \n",
      " 4   Follower/Following Ratio  2954 non-null   float64\n",
      " 5   URL                       2954 non-null   int64  \n",
      " 6   Verified                  2954 non-null   int64  \n",
      " 7   Number of Tweets          2954 non-null   int64  \n",
      " 8   # of liked Tweets         2954 non-null   int64  \n",
      " 9   # of lists                2954 non-null   int64  \n",
      " 10  Bot: 4.0 Threshold        2954 non-null   int64  \n",
      "dtypes: float64(1), int64(9), object(1)\n",
      "memory usage: 254.0+ KB\n"
     ]
    }
   ],
   "source": [
    "train.info()"
   ]
  },
  {
   "cell_type": "code",
   "execution_count": 4,
   "metadata": {},
   "outputs": [],
   "source": [
    "# Rename column to \"Label\" for easy use\n",
    "train.rename(columns = {'Bot: 4.0 Threshold': 'Label'}, inplace = True)\n",
    "train_bal.rename(columns = {'Bot: 4.0 Threshold': 'Label'}, inplace = True)\n",
    "test.rename(columns = {'Bot: 4.0 Threshold': 'Label'}, inplace = True)\n",
    "test_bal.rename(columns = {'Bot: 4.0 Threshold': 'Label'}, inplace = True)\n",
    "val.rename(columns = {'Bot: 4.0 Threshold': 'Label'}, inplace = True)\n",
    "val_bal.rename(columns = {'Bot: 4.0 Threshold': 'Label'}, inplace = True)"
   ]
  },
  {
   "cell_type": "markdown",
   "metadata": {},
   "source": [
    "# Machine Learning Models - Imbalanced Data <a class=\"anchor\" id=\"chapter2\"></a>"
   ]
  },
  {
   "cell_type": "markdown",
   "metadata": {},
   "source": [
    "## Model Data Preprocessing <a class=\"anchor\" id=\"section_2_1\"></a>"
   ]
  },
  {
   "cell_type": "code",
   "execution_count": 5,
   "metadata": {},
   "outputs": [],
   "source": [
    "# Columns used for all models\n",
    "columns = ['Age in Years','# of Followers','# of Followings','Follower/Following Ratio',\n",
    "           'URL','Verified','Number of Tweets','# of liked Tweets','# of lists',\n",
    "           'Label']"
   ]
  },
  {
   "cell_type": "code",
   "execution_count": 6,
   "metadata": {},
   "outputs": [],
   "source": [
    "feature_use = list(train.columns[1:-1])"
   ]
  },
  {
   "cell_type": "code",
   "execution_count": 7,
   "metadata": {},
   "outputs": [
    {
     "data": {
      "text/plain": [
       "['Age in Years',\n",
       " '# of Followers',\n",
       " '# of Followings',\n",
       " 'Follower/Following Ratio',\n",
       " 'URL',\n",
       " 'Verified',\n",
       " 'Number of Tweets',\n",
       " '# of liked Tweets',\n",
       " '# of lists']"
      ]
     },
     "execution_count": 7,
     "metadata": {},
     "output_type": "execute_result"
    }
   ],
   "source": [
    "feature_use"
   ]
  },
  {
   "cell_type": "markdown",
   "metadata": {},
   "source": [
    "## Logistic Regression <a class=\"anchor\" id=\"section_2_2\"></a>"
   ]
  },
  {
   "cell_type": "markdown",
   "metadata": {},
   "source": [
    "### LR Hold-out Validation <a class=\"anchor\" id=\"section_2_2_1\"></a>"
   ]
  },
  {
   "cell_type": "code",
   "execution_count": 8,
   "metadata": {},
   "outputs": [
    {
     "name": "stderr",
     "output_type": "stream",
     "text": [
      "C:\\Users\\VNCERT09\\anaconda3\\lib\\site-packages\\sklearn\\linear_model\\_sag.py:329: ConvergenceWarning: The max_iter was reached which means the coef_ did not converge\n",
      "  warnings.warn(\"The max_iter was reached which means \"\n"
     ]
    }
   ],
   "source": [
    "# Tuning parameter for LogisticRegression\n",
    "lr1 = LogisticRegression(solver = 'saga', max_iter = 500, C= 0.001)\n",
    "# fitting train set\n",
    "lr1.fit(train[feature_use], train['Label'])\n",
    "# predict for test set\n",
    "y_predict_lr1 = lr1.predict(test[feature_use])"
   ]
  },
  {
   "cell_type": "markdown",
   "metadata": {},
   "source": [
    "### LR Confusion Matrix <a class=\"anchor\" id=\"section_2_2_2\"></a>"
   ]
  },
  {
   "cell_type": "code",
   "execution_count": 9,
   "metadata": {},
   "outputs": [],
   "source": [
    "#plot confusion matrix\n",
    "def plot_confusion_matrix(cm, classes,\n",
    "                          normalize=False,\n",
    "                          title='Confusion matrix',\n",
    "                          cmap='Blues'):\n",
    "    \"\"\"\n",
    "    This function prints and plots the confusion matrix.\n",
    "    Normalization can be applied by setting `normalize=True`.\n",
    "    \"\"\"\n",
    "    if normalize:\n",
    "        cm = cm.astype('float') / cm.sum(axis=1)[:, np.newaxis]\n",
    "        print(\"Normalized confusion matrix\")\n",
    "    else:\n",
    "        print('Confusion matrix, without normalization')\n",
    "\n",
    "    print(cm)\n",
    "\n",
    "    plt.imshow(cm, interpolation='nearest', cmap=cmap)\n",
    "    plt.title(title)\n",
    "    plt.colorbar()\n",
    "    tick_marks = np.arange(len(classes))\n",
    "    plt.xticks(tick_marks, classes, rotation=45)\n",
    "    plt.yticks(tick_marks, classes)\n",
    "\n",
    "    fmt = '.2f' if normalize else 'd'\n",
    "    thresh = cm.max() / 2.\n",
    "    for i, j in itertools.product(range(cm.shape[0]), range(cm.shape[1])):\n",
    "        plt.text(j, i, format(cm[i, j], fmt),\n",
    "                 horizontalalignment=\"center\",\n",
    "                 color=\"white\" if cm[i, j] > thresh else \"black\")\n",
    "\n",
    "    plt.tight_layout()\n",
    "    plt.grid(b=None)\n",
    "    plt.grid(False)\n",
    "    plt.ylabel('True label')\n",
    "    plt.xlabel('Predicted label')"
   ]
  },
  {
   "cell_type": "code",
   "execution_count": 10,
   "metadata": {},
   "outputs": [
    {
     "name": "stdout",
     "output_type": "stream",
     "text": [
      "Confusion matrix, without normalization\n",
      "[[850   0]\n",
      " [135   0]]\n"
     ]
    },
    {
     "data": {
      "image/png": "[encoded data removed]",
      "text/plain": [
       "<Figure size 432x288 with 2 Axes>"
      ]
     },
     "metadata": {
      "needs_background": "light"
     },
     "output_type": "display_data"
    }
   ],
   "source": [
    "# Plot confusion matrix \n",
    "cfm_lr1 = confusion_matrix(test['Label'], y_predict_lr1)\n",
    "plot_confusion_matrix(cfm_lr1, classes=[1,0], normalize=False)"
   ]
  },
  {
   "cell_type": "markdown",
   "metadata": {},
   "source": [
    "### LR Classification Report <a class=\"anchor\" id=\"section_2_2_3\"></a>"
   ]
  },
  {
   "cell_type": "code",
   "execution_count": 11,
   "metadata": {},
   "outputs": [
    {
     "name": "stdout",
     "output_type": "stream",
     "text": [
      "              precision    recall  f1-score   support\n",
      "\n",
      "           0       0.86      1.00      0.93       850\n",
      "           1       0.00      0.00      0.00       135\n",
      "\n",
      "    accuracy                           0.86       985\n",
      "   macro avg       0.43      0.50      0.46       985\n",
      "weighted avg       0.74      0.86      0.80       985\n",
      "\n"
     ]
    },
    {
     "name": "stderr",
     "output_type": "stream",
     "text": [
      "C:\\Users\\VNCERT09\\anaconda3\\lib\\site-packages\\sklearn\\metrics\\_classification.py:1221: UndefinedMetricWarning: Precision and F-score are ill-defined and being set to 0.0 in labels with no predicted samples. Use `zero_division` parameter to control this behavior.\n",
      "  _warn_prf(average, modifier, msg_start, len(result))\n"
     ]
    }
   ],
   "source": [
    "# Classification report for label and prediction\n",
    "print(classification_report(test['Label'], y_predict_lr1))"
   ]
  },
  {
   "cell_type": "markdown",
   "metadata": {},
   "source": [
    "### LR Accuracy Score <a class=\"anchor\" id=\"section_2_2_4\"></a>"
   ]
  },
  {
   "cell_type": "code",
   "execution_count": 12,
   "metadata": {},
   "outputs": [
    {
     "name": "stdout",
     "output_type": "stream",
     "text": [
      "0.8629441624365483\n"
     ]
    }
   ],
   "source": [
    "y_true_lr1 = list(test['Label'])\n",
    "accuracy_lr1 = accuracy_score(y_true_lr1, y_predict_lr1, normalize=True)\n",
    "print(accuracy_lr1)"
   ]
  },
  {
   "cell_type": "markdown",
   "metadata": {},
   "source": [
    "### LR Important Features <a class=\"anchor\" id=\"section_2_2_5\"></a>"
   ]
  },
  {
   "cell_type": "code",
   "execution_count": 13,
   "metadata": {},
   "outputs": [
    {
     "data": {
      "image/png": "[encoded data removed]",
      "text/plain": [
       "<Figure size 1152x576 with 1 Axes>"
      ]
     },
     "metadata": {
      "needs_background": "light"
     },
     "output_type": "display_data"
    }
   ],
   "source": [
    "# Ploting to show level of important factors\n",
    "f =pd.DataFrame({'feature':[None]*len(feature_use), 'coef':[None]*len(feature_use)})\n",
    "f['feature'] = feature_use\n",
    "f['importance'] = np.abs(lr1.coef_).reshape(-1,1)\n",
    "f = f.sort_values(by=['importance'], ascending=False)\n",
    "\n",
    "\n",
    "plt.figure(figsize=[16,8])\n",
    "##\n",
    "sns.barplot(y=f['feature'][:25], x=f['importance'][:25], palette=\"husl\");\n",
    "plt.xlabel('absolute coef')\n",
    "plt.title('logistic regression');"
   ]
  },
  {
   "cell_type": "markdown",
   "metadata": {},
   "source": [
    "### LR Cross-Validation <a class=\"anchor\" id=\"section_2_2_6\"></a>"
   ]
  },
  {
   "cell_type": "code",
   "execution_count": 14,
   "metadata": {},
   "outputs": [
    {
     "name": "stderr",
     "output_type": "stream",
     "text": [
      "C:\\Users\\VNCERT09\\anaconda3\\lib\\site-packages\\sklearn\\tree\\_classes.py:306: FutureWarning: The min_impurity_split parameter is deprecated. Its default value has changed from 1e-7 to 0 in version 0.23, and it will be removed in 0.25. Use the min_impurity_decrease parameter instead.\n",
      "  warnings.warn(\"The min_impurity_split parameter is deprecated. \"\n",
      "C:\\Users\\VNCERT09\\anaconda3\\lib\\site-packages\\sklearn\\tree\\_classes.py:306: FutureWarning: The min_impurity_split parameter is deprecated. Its default value has changed from 1e-7 to 0 in version 0.23, and it will be removed in 0.25. Use the min_impurity_decrease parameter instead.\n",
      "  warnings.warn(\"The min_impurity_split parameter is deprecated. \"\n",
      "C:\\Users\\VNCERT09\\anaconda3\\lib\\site-packages\\sklearn\\tree\\_classes.py:306: FutureWarning: The min_impurity_split parameter is deprecated. Its default value has changed from 1e-7 to 0 in version 0.23, and it will be removed in 0.25. Use the min_impurity_decrease parameter instead.\n",
      "  warnings.warn(\"The min_impurity_split parameter is deprecated. \"\n",
      "C:\\Users\\VNCERT09\\anaconda3\\lib\\site-packages\\sklearn\\tree\\_classes.py:306: FutureWarning: The min_impurity_split parameter is deprecated. Its default value has changed from 1e-7 to 0 in version 0.23, and it will be removed in 0.25. Use the min_impurity_decrease parameter instead.\n",
      "  warnings.warn(\"The min_impurity_split parameter is deprecated. \"\n"
     ]
    }
   ],
   "source": [
    "clf1 = DecisionTreeClassifier(criterion='entropy', max_depth=11, min_samples_split=30, min_impurity_split=0.25)\n",
    "score1_lr1 = cross_val_score(clf1, val[feature_use], val['Label'], cv=4, scoring='f1')"
   ]
  },
  {
   "cell_type": "code",
   "execution_count": 15,
   "metadata": {},
   "outputs": [
    {
     "name": "stdout",
     "output_type": "stream",
     "text": [
      "Cross_validation score: [0.44067797 0.24561404 0.40677966 0.40625   ]\n"
     ]
    }
   ],
   "source": [
    "print('Cross_validation score:', score1_lr1)"
   ]
  },
  {
   "cell_type": "code",
   "execution_count": 16,
   "metadata": {},
   "outputs": [
    {
     "name": "stderr",
     "output_type": "stream",
     "text": [
      "C:\\Users\\VNCERT09\\anaconda3\\lib\\site-packages\\sklearn\\tree\\_classes.py:306: FutureWarning: The min_impurity_split parameter is deprecated. Its default value has changed from 1e-7 to 0 in version 0.23, and it will be removed in 0.25. Use the min_impurity_decrease parameter instead.\n",
      "  warnings.warn(\"The min_impurity_split parameter is deprecated. \"\n",
      "C:\\Users\\VNCERT09\\anaconda3\\lib\\site-packages\\sklearn\\tree\\_classes.py:306: FutureWarning: The min_impurity_split parameter is deprecated. Its default value has changed from 1e-7 to 0 in version 0.23, and it will be removed in 0.25. Use the min_impurity_decrease parameter instead.\n",
      "  warnings.warn(\"The min_impurity_split parameter is deprecated. \"\n",
      "C:\\Users\\VNCERT09\\anaconda3\\lib\\site-packages\\sklearn\\tree\\_classes.py:306: FutureWarning: The min_impurity_split parameter is deprecated. Its default value has changed from 1e-7 to 0 in version 0.23, and it will be removed in 0.25. Use the min_impurity_decrease parameter instead.\n",
      "  warnings.warn(\"The min_impurity_split parameter is deprecated. \"\n",
      "C:\\Users\\VNCERT09\\anaconda3\\lib\\site-packages\\sklearn\\tree\\_classes.py:306: FutureWarning: The min_impurity_split parameter is deprecated. Its default value has changed from 1e-7 to 0 in version 0.23, and it will be removed in 0.25. Use the min_impurity_decrease parameter instead.\n",
      "  warnings.warn(\"The min_impurity_split parameter is deprecated. \"\n"
     ]
    }
   ],
   "source": [
    "#Label2 is a column with Human tagged as 1 and Bot tagged as 0\n",
    "val['Label2'] = val['Label'].replace({1:0, 0:1}).astype(int)\n",
    "clf2 = DecisionTreeClassifier(criterion='entropy',\n",
    "                               max_depth=11, min_samples_split=30, min_impurity_split=0.25)\n",
    "score2_lr1 = cross_val_score(clf2, val[feature_use], val['Label2'], cv=4, scoring='f1')"
   ]
  },
  {
   "cell_type": "code",
   "execution_count": 18,
   "metadata": {},
   "outputs": [
    {
     "name": "stdout",
     "output_type": "stream",
     "text": [
      "Cross_validation score: [0.92523364 0.89559165 0.91916859 0.91079812]\n"
     ]
    }
   ],
   "source": [
    "print('Cross_validation score:', score2_lr1)"
   ]
  },
  {
   "cell_type": "markdown",
   "metadata": {},
   "source": [
    "## Gradient Boosting <a class=\"anchor\" id=\"section_2_3\"></a>"
   ]
  },
  {
   "cell_type": "markdown",
   "metadata": {},
   "source": [
    "### GB Hold-out Validation <a class=\"anchor\" id=\"section_2_3_1\"></a>"
   ]
  },
  {
   "cell_type": "code",
   "execution_count": 19,
   "metadata": {},
   "outputs": [],
   "source": [
    "# Tuning parameters for Gradient Boosting Classifier\n",
    "gb1 = GradientBoostingClassifier(learning_rate = 0.5, n_estimators = 10, subsample = 0.8,\n",
    "                               max_depth=25)\n",
    "# Fit base model on training data set\n",
    "gb1.fit(train[feature_use], train['Label'])\n",
    "# Evaluate the model\n",
    "y_predict_gb1 = gb1.predict(test[feature_use])"
   ]
  },
  {
   "cell_type": "markdown",
   "metadata": {},
   "source": [
    "### GB Confusion Matrix <a class=\"anchor\" id=\"section_2_3_2\"></a>"
   ]
  },
  {
   "cell_type": "code",
   "execution_count": 20,
   "metadata": {},
   "outputs": [
    {
     "name": "stdout",
     "output_type": "stream",
     "text": [
      "Confusion matrix, without normalization\n",
      "[[807  43]\n",
      " [ 72  63]]\n"
     ]
    },
    {
     "data": {
      "image/png": "[encoded data removed]",
      "text/plain": [
       "<Figure size 432x288 with 2 Axes>"
      ]
     },
     "metadata": {
      "needs_background": "light"
     },
     "output_type": "display_data"
    }
   ],
   "source": [
    "# Plot confusion matrix without normalization\n",
    "cfm_gb1 = confusion_matrix(test['Label'], y_predict_gb1)\n",
    "plot_confusion_matrix(cfm_gb1, classes=[1,0], normalize=False)"
   ]
  },
  {
   "cell_type": "markdown",
   "metadata": {},
   "source": [
    "### GB Classification Report <a class=\"anchor\" id=\"section_2_3_3\"></a>"
   ]
  },
  {
   "cell_type": "code",
   "execution_count": 21,
   "metadata": {},
   "outputs": [
    {
     "name": "stdout",
     "output_type": "stream",
     "text": [
      "              precision    recall  f1-score   support\n",
      "\n",
      "           0       0.92      0.95      0.93       850\n",
      "           1       0.59      0.47      0.52       135\n",
      "\n",
      "    accuracy                           0.88       985\n",
      "   macro avg       0.76      0.71      0.73       985\n",
      "weighted avg       0.87      0.88      0.88       985\n",
      "\n"
     ]
    }
   ],
   "source": [
    "# Classification report for label and prediction\n",
    "print(classification_report(test['Label'], y_predict_gb1))"
   ]
  },
  {
   "cell_type": "markdown",
   "metadata": {},
   "source": [
    "### GB Accuracy Score <a class=\"anchor\" id=\"section_2_3_4\"></a>"
   ]
  },
  {
   "cell_type": "code",
   "execution_count": 22,
   "metadata": {},
   "outputs": [
    {
     "name": "stdout",
     "output_type": "stream",
     "text": [
      "0.883248730964467\n"
     ]
    }
   ],
   "source": [
    "y_true_gb1 = list(test['Label'])\n",
    "accuracy_gb1 = accuracy_score(y_true_gb1, y_predict_gb1, normalize=True)\n",
    "print(accuracy_gb1)"
   ]
  },
  {
   "cell_type": "markdown",
   "metadata": {},
   "source": [
    "### GB Important Features <a class=\"anchor\" id=\"section_2_3_5\"></a>"
   ]
  },
  {
   "cell_type": "code",
   "execution_count": 23,
   "metadata": {},
   "outputs": [
    {
     "data": {
      "image/png": "[encoded data removed]",
      "text/plain": [
       "<Figure size 1152x576 with 1 Axes>"
      ]
     },
     "metadata": {
      "needs_background": "light"
     },
     "output_type": "display_data"
    }
   ],
   "source": [
    "# Ploting to show level of important factors\n",
    "f =pd.DataFrame({'feature':[None]*len(feature_use), 'coef':[None]*len(feature_use)})\n",
    "f['feature'] = feature_use\n",
    "f['importance'] = gb1.feature_importances_.reshape(-1,1)\n",
    "f = f.sort_values(by=['importance'], ascending=False)\n",
    "plt.figure(figsize=[16,8])\n",
    "sns.barplot(y=f['feature'][:25], x=f['importance'][:25], palette=\"husl\");\n",
    "plt.title('gradient boosting');"
   ]
  },
  {
   "cell_type": "markdown",
   "metadata": {},
   "source": [
    "### GB Cross Validation <a class=\"anchor\" id=\"section_2_3_6\"></a>"
   ]
  },
  {
   "cell_type": "code",
   "execution_count": 24,
   "metadata": {},
   "outputs": [],
   "source": [
    "score1_gb1 = cross_val_score(gb1, val[feature_use], val['Label'], cv=3, scoring='f1')"
   ]
  },
  {
   "cell_type": "code",
   "execution_count": 25,
   "metadata": {},
   "outputs": [
    {
     "name": "stdout",
     "output_type": "stream",
     "text": [
      "[0.37209302 0.43956044 0.49438202]\n"
     ]
    }
   ],
   "source": [
    "print(score1_gb1)"
   ]
  },
  {
   "cell_type": "code",
   "execution_count": 26,
   "metadata": {},
   "outputs": [],
   "source": [
    "score2_gb1 = cross_val_score(gb1, val[feature_use], val['Label2'], cv=3, scoring='f1')"
   ]
  },
  {
   "cell_type": "code",
   "execution_count": 27,
   "metadata": {},
   "outputs": [
    {
     "name": "stdout",
     "output_type": "stream",
     "text": [
      "[0.90391459 0.90035587 0.91388401]\n"
     ]
    }
   ],
   "source": [
    "print(score2_gb1)"
   ]
  },
  {
   "cell_type": "markdown",
   "metadata": {},
   "source": [
    "## Decision Tree <a class=\"anchor\" id=\"section_2_4\"></a>"
   ]
  },
  {
   "cell_type": "markdown",
   "metadata": {},
   "source": [
    "### DT Hold-out Validation <a class=\"anchor\" id=\"section_2_4_1\"></a>"
   ]
  },
  {
   "cell_type": "code",
   "execution_count": 28,
   "metadata": {},
   "outputs": [
    {
     "name": "stderr",
     "output_type": "stream",
     "text": [
      "C:\\Users\\VNCERT09\\anaconda3\\lib\\site-packages\\sklearn\\tree\\_classes.py:306: FutureWarning: The min_impurity_split parameter is deprecated. Its default value has changed from 1e-7 to 0 in version 0.23, and it will be removed in 0.25. Use the min_impurity_decrease parameter instead.\n",
      "  warnings.warn(\"The min_impurity_split parameter is deprecated. \"\n"
     ]
    }
   ],
   "source": [
    "# Tuning parameter\n",
    "tree1 = DecisionTreeClassifier(criterion='entropy',\n",
    "                               max_depth=11, min_samples_split=30, min_impurity_split=0.25)\n",
    "# Fit base model on training data set\n",
    "tree1.fit(train[feature_use], train['Label'])\n",
    "# Evaluate the model\n",
    "y_predict_tree1 = tree1.predict(test[feature_use])"
   ]
  },
  {
   "cell_type": "markdown",
   "metadata": {},
   "source": [
    "### DT Confusion Matrix <a class=\"anchor\" id=\"section_2_4_2\"></a>"
   ]
  },
  {
   "cell_type": "code",
   "execution_count": 29,
   "metadata": {},
   "outputs": [
    {
     "name": "stdout",
     "output_type": "stream",
     "text": [
      "Confusion matrix, without normalization\n",
      "[[801  49]\n",
      " [ 70  65]]\n"
     ]
    },
    {
     "data": {
      "image/png": "[encoded data removed]",
      "text/plain": [
       "<Figure size 432x288 with 2 Axes>"
      ]
     },
     "metadata": {
      "needs_background": "light"
     },
     "output_type": "display_data"
    }
   ],
   "source": [
    "# Plot confusion matrix without normalization\n",
    "cfm_tree1 = confusion_matrix(test['Label'], y_predict_tree1)\n",
    "plot_confusion_matrix(cfm_tree1, classes=[1,0], normalize=False)"
   ]
  },
  {
   "cell_type": "markdown",
   "metadata": {},
   "source": [
    "### DT Classification Report <a class=\"anchor\" id=\"section_2_4_3\"></a>"
   ]
  },
  {
   "cell_type": "code",
   "execution_count": 30,
   "metadata": {},
   "outputs": [
    {
     "name": "stdout",
     "output_type": "stream",
     "text": [
      "              precision    recall  f1-score   support\n",
      "\n",
      "           0       0.92      0.94      0.93       850\n",
      "           1       0.57      0.48      0.52       135\n",
      "\n",
      "    accuracy                           0.88       985\n",
      "   macro avg       0.74      0.71      0.73       985\n",
      "weighted avg       0.87      0.88      0.87       985\n",
      "\n"
     ]
    }
   ],
   "source": [
    "# Classification report for label and prediction\n",
    "print(classification_report(test['Label'], y_predict_tree1))"
   ]
  },
  {
   "cell_type": "markdown",
   "metadata": {},
   "source": [
    "### DT Accuracy Score <a class=\"anchor\" id=\"section_2_4_4\"></a>"
   ]
  },
  {
   "cell_type": "code",
   "execution_count": 31,
   "metadata": {},
   "outputs": [
    {
     "name": "stdout",
     "output_type": "stream",
     "text": [
      "0.8791878172588833\n"
     ]
    }
   ],
   "source": [
    "y_true_tree1 = list(test['Label'])\n",
    "accuracy_tree1 = accuracy_score(y_true_tree1, y_predict_tree1, normalize=True)\n",
    "print(accuracy_tree1)"
   ]
  },
  {
   "cell_type": "markdown",
   "metadata": {},
   "source": [
    "### DT Important Features <a class=\"anchor\" id=\"section_2_4_5\"></a>"
   ]
  },
  {
   "cell_type": "code",
   "execution_count": 32,
   "metadata": {},
   "outputs": [
    {
     "data": {
      "image/png": "[encoded data removed]",
      "text/plain": [
       "<Figure size 1152x576 with 1 Axes>"
      ]
     },
     "metadata": {
      "needs_background": "light"
     },
     "output_type": "display_data"
    }
   ],
   "source": [
    "# Ploting to show level of important factors\n",
    "f =pd.DataFrame({'feature':[None]*len(feature_use), 'coef':[None]*len(feature_use)})\n",
    "f['feature'] = feature_use\n",
    "f['importance'] = tree1.feature_importances_.reshape(-1,1)\n",
    "f = f.sort_values(by=['importance'], ascending=False)\n",
    "plt.figure(figsize=[16,8])\n",
    "sns.barplot(y=f['feature'][:25], x=f['importance'][:25], palette=\"husl\");\n",
    "plt.title('decision tree');"
   ]
  },
  {
   "cell_type": "markdown",
   "metadata": {},
   "source": [
    "### DT ROC Curve <a class=\"anchor\" id=\"section_2_4_6\"></a>"
   ]
  },
  {
   "cell_type": "code",
   "execution_count": 33,
   "metadata": {},
   "outputs": [],
   "source": [
    "def get_auc_scores(clf, X_train, X_test, y_train, y_test):\n",
    "    \"\"\"Prints the AUC scores for training and testing data and returns testing score\"\"\"\n",
    "    \n",
    "    y_train_score = clf.predict_proba(X_train)[:, 1]\n",
    "    y_test_score = clf.predict_proba(X_test)[:, 1]\n",
    "    auc_train = roc_auc_score(y_train, y_train_score)\n",
    "    auc_test = roc_auc_score(y_test, y_test_score)\n",
    "\n",
    "    print(f\"\"\"\n",
    "        Training AUC: {auc_train}\n",
    "        Testing AUC: {auc_test}\"\"\")\n",
    " \n",
    "    return y_test_score"
   ]
  },
  {
   "cell_type": "code",
   "execution_count": 34,
   "metadata": {},
   "outputs": [],
   "source": [
    "def plot_roc_curve(y_test, y_test_score):\n",
    "    \"\"\"Plot ROC curve for testing data\"\"\"\n",
    "\n",
    "    fpr, tpr, _ = roc_curve(y_test, y_test_score)\n",
    "    roc_auc = auc(fpr, tpr)\n",
    "    plt.figure()\n",
    "    plt.plot(fpr, tpr, label=\"ROC curve (area = %0.2f)\" % roc_auc)\n",
    "    plt.plot([0, 1], [0, 1], \"k-\")\n",
    "    plt.xlim([0.0, 1.0])\n",
    "    plt.ylim([0.0, 1.05])\n",
    "    plt.xlabel(\"False Positive Rate\")\n",
    "    plt.ylabel(\"True Positive Rate\")\n",
    "    plt.title(\"ROC Curve\")\n",
    "    plt.legend(loc=\"lower right\")\n",
    "    plt.show()"
   ]
  },
  {
   "cell_type": "code",
   "execution_count": 35,
   "metadata": {},
   "outputs": [
    {
     "name": "stdout",
     "output_type": "stream",
     "text": [
      "\n",
      "        Training AUC: 0.9122275476435011\n",
      "        Testing AUC: 0.7989803921568628\n"
     ]
    },
    {
     "data": {
      "image/png": "[encoded data removed]",
      "text/plain": [
       "<Figure size 432x288 with 1 Axes>"
      ]
     },
     "metadata": {
      "needs_background": "light"
     },
     "output_type": "display_data"
    }
   ],
   "source": [
    "plot_roc_curve(test['Label'], get_auc_scores(tree1, train[feature_use], test[feature_use], train['Label'], test['Label']))"
   ]
  },
  {
   "cell_type": "markdown",
   "metadata": {},
   "source": [
    "# Machine Learning Models - Balanced Dataset <a class=\"anchor\" id=\"chapter3\"></a>"
   ]
  },
  {
   "cell_type": "markdown",
   "metadata": {},
   "source": [
    "## Logistic Regression <a class=\"anchor\" id=\"section_3_1\"></a>"
   ]
  },
  {
   "cell_type": "markdown",
   "metadata": {},
   "source": [
    "### LR Hold-out Validation <a class=\"anchor\" id=\"section_3_1_1\"></a>"
   ]
  },
  {
   "cell_type": "code",
   "execution_count": 36,
   "metadata": {},
   "outputs": [
    {
     "name": "stderr",
     "output_type": "stream",
     "text": [
      "C:\\Users\\VNCERT09\\anaconda3\\lib\\site-packages\\sklearn\\linear_model\\_sag.py:329: ConvergenceWarning: The max_iter was reached which means the coef_ did not converge\n",
      "  warnings.warn(\"The max_iter was reached which means \"\n"
     ]
    }
   ],
   "source": [
    "# Tuning parameter for LogisticRegression\n",
    "lr2 = LogisticRegression(solver = 'saga', max_iter = 500, C= 0.001)\n",
    "# fitting train set\n",
    "lr2.fit(train_bal[feature_use], train_bal['Label'])\n",
    "# predict for test set\n",
    "y_predict_lr2 = lr2.predict(test_bal[feature_use])"
   ]
  },
  {
   "cell_type": "markdown",
   "metadata": {},
   "source": [
    "### LR Confusion Matrix <a class=\"anchor\" id=\"section_3_1_2\"></a>"
   ]
  },
  {
   "cell_type": "code",
   "execution_count": 37,
   "metadata": {},
   "outputs": [
    {
     "name": "stdout",
     "output_type": "stream",
     "text": [
      "Confusion matrix, without normalization\n",
      "[[ 24 122]\n",
      " [  7 126]]\n"
     ]
    },
    {
     "data": {
      "image/png": "[encoded data removed]",
      "text/plain": [
       "<Figure size 432x288 with 2 Axes>"
      ]
     },
     "metadata": {
      "needs_background": "light"
     },
     "output_type": "display_data"
    }
   ],
   "source": [
    "# Plot confusion matrix \n",
    "cfm_lr2 = confusion_matrix(test_bal['Label'], y_predict_lr2)\n",
    "plot_confusion_matrix(cfm_lr2, classes=[1,0], normalize=False)"
   ]
  },
  {
   "cell_type": "markdown",
   "metadata": {},
   "source": [
    "### LR Classification Report <a class=\"anchor\" id=\"section_3_1_3\"></a>"
   ]
  },
  {
   "cell_type": "code",
   "execution_count": 38,
   "metadata": {},
   "outputs": [
    {
     "name": "stdout",
     "output_type": "stream",
     "text": [
      "              precision    recall  f1-score   support\n",
      "\n",
      "           0       0.77      0.16      0.27       146\n",
      "           1       0.51      0.95      0.66       133\n",
      "\n",
      "    accuracy                           0.54       279\n",
      "   macro avg       0.64      0.56      0.47       279\n",
      "weighted avg       0.65      0.54      0.46       279\n",
      "\n"
     ]
    }
   ],
   "source": [
    "# Classification report for label and prediction\n",
    "print(classification_report(test_bal['Label'], y_predict_lr2))"
   ]
  },
  {
   "cell_type": "markdown",
   "metadata": {},
   "source": [
    "### LR Accuracy Score <a class=\"anchor\" id=\"section_3_1_4\"></a>"
   ]
  },
  {
   "cell_type": "code",
   "execution_count": 39,
   "metadata": {},
   "outputs": [
    {
     "name": "stdout",
     "output_type": "stream",
     "text": [
      "0.5376344086021505\n"
     ]
    }
   ],
   "source": [
    "y_true_lr2 = list(test_bal['Label'])\n",
    "accuracy_lr2 = accuracy_score(y_true_lr2, y_predict_lr2, normalize=True)\n",
    "print(accuracy_lr2)"
   ]
  },
  {
   "cell_type": "markdown",
   "metadata": {},
   "source": [
    "### LR Important Features <a class=\"anchor\" id=\"section_3_1_5\"></a>"
   ]
  },
  {
   "cell_type": "code",
   "execution_count": 40,
   "metadata": {},
   "outputs": [
    {
     "data": {
      "image/png": "[encoded data removed]",
      "text/plain": [
       "<Figure size 1152x576 with 1 Axes>"
      ]
     },
     "metadata": {
      "needs_background": "light"
     },
     "output_type": "display_data"
    }
   ],
   "source": [
    "# Ploting to show level of important factors\n",
    "f =pd.DataFrame({'feature':[None]*len(feature_use), 'coef':[None]*len(feature_use)})\n",
    "f['feature'] = feature_use\n",
    "f['importance'] = np.abs(lr2.coef_).reshape(-1,1)\n",
    "f = f.sort_values(by=['importance'], ascending=False)\n",
    "\n",
    "\n",
    "plt.figure(figsize=[16,8])\n",
    "##\n",
    "sns.barplot(y=f['feature'][:25], x=f['importance'][:25], palette=\"husl\");\n",
    "plt.xlabel('absolute coef')\n",
    "plt.title('logistic regression');"
   ]
  },
  {
   "cell_type": "markdown",
   "metadata": {},
   "source": [
    "### LR Cross-Validation <a class=\"anchor\" id=\"section_3_1_6\"></a>"
   ]
  },
  {
   "cell_type": "code",
   "execution_count": 41,
   "metadata": {},
   "outputs": [
    {
     "name": "stderr",
     "output_type": "stream",
     "text": [
      "C:\\Users\\VNCERT09\\anaconda3\\lib\\site-packages\\sklearn\\tree\\_classes.py:306: FutureWarning: The min_impurity_split parameter is deprecated. Its default value has changed from 1e-7 to 0 in version 0.23, and it will be removed in 0.25. Use the min_impurity_decrease parameter instead.\n",
      "  warnings.warn(\"The min_impurity_split parameter is deprecated. \"\n",
      "C:\\Users\\VNCERT09\\anaconda3\\lib\\site-packages\\sklearn\\tree\\_classes.py:306: FutureWarning: The min_impurity_split parameter is deprecated. Its default value has changed from 1e-7 to 0 in version 0.23, and it will be removed in 0.25. Use the min_impurity_decrease parameter instead.\n",
      "  warnings.warn(\"The min_impurity_split parameter is deprecated. \"\n",
      "C:\\Users\\VNCERT09\\anaconda3\\lib\\site-packages\\sklearn\\tree\\_classes.py:306: FutureWarning: The min_impurity_split parameter is deprecated. Its default value has changed from 1e-7 to 0 in version 0.23, and it will be removed in 0.25. Use the min_impurity_decrease parameter instead.\n",
      "  warnings.warn(\"The min_impurity_split parameter is deprecated. \"\n",
      "C:\\Users\\VNCERT09\\anaconda3\\lib\\site-packages\\sklearn\\tree\\_classes.py:306: FutureWarning: The min_impurity_split parameter is deprecated. Its default value has changed from 1e-7 to 0 in version 0.23, and it will be removed in 0.25. Use the min_impurity_decrease parameter instead.\n",
      "  warnings.warn(\"The min_impurity_split parameter is deprecated. \"\n"
     ]
    }
   ],
   "source": [
    "clf1 = DecisionTreeClassifier(criterion='entropy', max_depth=11, min_samples_split=30, min_impurity_split=0.25)\n",
    "score1_lr2 = cross_val_score(clf1, val_bal[feature_use], val_bal['Label'], cv=4, scoring='f1')"
   ]
  },
  {
   "cell_type": "code",
   "execution_count": 42,
   "metadata": {},
   "outputs": [
    {
     "name": "stdout",
     "output_type": "stream",
     "text": [
      "Cross_validation score: [0.71604938 0.73333333 0.7012987  0.73417722]\n"
     ]
    }
   ],
   "source": [
    "print('Cross_validation score:', score1_lr2)"
   ]
  },
  {
   "cell_type": "code",
   "execution_count": 43,
   "metadata": {},
   "outputs": [
    {
     "name": "stderr",
     "output_type": "stream",
     "text": [
      "C:\\Users\\VNCERT09\\anaconda3\\lib\\site-packages\\sklearn\\tree\\_classes.py:306: FutureWarning: The min_impurity_split parameter is deprecated. Its default value has changed from 1e-7 to 0 in version 0.23, and it will be removed in 0.25. Use the min_impurity_decrease parameter instead.\n",
      "  warnings.warn(\"The min_impurity_split parameter is deprecated. \"\n",
      "C:\\Users\\VNCERT09\\anaconda3\\lib\\site-packages\\sklearn\\tree\\_classes.py:306: FutureWarning: The min_impurity_split parameter is deprecated. Its default value has changed from 1e-7 to 0 in version 0.23, and it will be removed in 0.25. Use the min_impurity_decrease parameter instead.\n",
      "  warnings.warn(\"The min_impurity_split parameter is deprecated. \"\n",
      "C:\\Users\\VNCERT09\\anaconda3\\lib\\site-packages\\sklearn\\tree\\_classes.py:306: FutureWarning: The min_impurity_split parameter is deprecated. Its default value has changed from 1e-7 to 0 in version 0.23, and it will be removed in 0.25. Use the min_impurity_decrease parameter instead.\n",
      "  warnings.warn(\"The min_impurity_split parameter is deprecated. \"\n",
      "C:\\Users\\VNCERT09\\anaconda3\\lib\\site-packages\\sklearn\\tree\\_classes.py:306: FutureWarning: The min_impurity_split parameter is deprecated. Its default value has changed from 1e-7 to 0 in version 0.23, and it will be removed in 0.25. Use the min_impurity_decrease parameter instead.\n",
      "  warnings.warn(\"The min_impurity_split parameter is deprecated. \"\n"
     ]
    }
   ],
   "source": [
    "#Label2 is a column with Human tagged as 1 and Bot tagged as 0\n",
    "val_bal['Label2'] = val_bal['Label'].replace({1:0, 0:1}).astype(int)\n",
    "clf2 = DecisionTreeClassifier(criterion='entropy',\n",
    "                               max_depth=11, min_samples_split=30, min_impurity_split=0.25)\n",
    "score2_lr2 = cross_val_score(clf2, val_bal[feature_use], val_bal['Label2'], cv=4, scoring='f1')"
   ]
  },
  {
   "cell_type": "code",
   "execution_count": 44,
   "metadata": {},
   "outputs": [
    {
     "name": "stdout",
     "output_type": "stream",
     "text": [
      "Cross_validation score: [0.61016949 0.46808511 0.63492063 0.6440678 ]\n"
     ]
    }
   ],
   "source": [
    "print('Cross_validation score:', score2_lr2)"
   ]
  },
  {
   "cell_type": "markdown",
   "metadata": {},
   "source": [
    "## Gradient Boosting <a class=\"anchor\" id=\"section_3_2\"></a>"
   ]
  },
  {
   "cell_type": "markdown",
   "metadata": {},
   "source": [
    "### GB Hold-out Validation <a class=\"anchor\" id=\"section_3_2_1\"></a>"
   ]
  },
  {
   "cell_type": "code",
   "execution_count": 45,
   "metadata": {},
   "outputs": [],
   "source": [
    "# Tuning parameters for Gradient Boosting Classifier\n",
    "gb2 = GradientBoostingClassifier(learning_rate = 0.5, n_estimators = 10, subsample = 0.8,\n",
    "                               max_depth=25)\n",
    "# Fit base model on training data set\n",
    "gb2.fit(train_bal[feature_use], train_bal['Label'])\n",
    "# Evaluate the model\n",
    "y_predict_gb2 = gb1.predict(test_bal[feature_use])"
   ]
  },
  {
   "cell_type": "markdown",
   "metadata": {},
   "source": [
    "### GB Confusion Matrix <a class=\"anchor\" id=\"section_3_2_2\"></a>"
   ]
  },
  {
   "cell_type": "code",
   "execution_count": 46,
   "metadata": {},
   "outputs": [
    {
     "name": "stdout",
     "output_type": "stream",
     "text": [
      "Confusion matrix, without normalization\n",
      "[[143   3]\n",
      " [ 26 107]]\n"
     ]
    },
    {
     "data": {
      "image/png": "[encoded data removed]",
      "text/plain": [
       "<Figure size 432x288 with 2 Axes>"
      ]
     },
     "metadata": {
      "needs_background": "light"
     },
     "output_type": "display_data"
    }
   ],
   "source": [
    "# Plot confusion matrix without normalization\n",
    "cfm_gb2 = confusion_matrix(test_bal['Label'], y_predict_gb2)\n",
    "plot_confusion_matrix(cfm_gb2, classes=[1,0], normalize=False)"
   ]
  },
  {
   "cell_type": "markdown",
   "metadata": {},
   "source": [
    "### GB Classification Report <a class=\"anchor\" id=\"section_3_2_3\"></a>"
   ]
  },
  {
   "cell_type": "code",
   "execution_count": 47,
   "metadata": {},
   "outputs": [
    {
     "name": "stdout",
     "output_type": "stream",
     "text": [
      "              precision    recall  f1-score   support\n",
      "\n",
      "           0       0.85      0.98      0.91       146\n",
      "           1       0.97      0.80      0.88       133\n",
      "\n",
      "    accuracy                           0.90       279\n",
      "   macro avg       0.91      0.89      0.89       279\n",
      "weighted avg       0.91      0.90      0.89       279\n",
      "\n"
     ]
    }
   ],
   "source": [
    "# Classification report for label and prediction\n",
    "print(classification_report(test_bal['Label'], y_predict_gb2))"
   ]
  },
  {
   "cell_type": "markdown",
   "metadata": {},
   "source": [
    "### GB Accuracy Score <a class=\"anchor\" id=\"section_3_2_4\"></a>"
   ]
  },
  {
   "cell_type": "code",
   "execution_count": 48,
   "metadata": {},
   "outputs": [
    {
     "name": "stdout",
     "output_type": "stream",
     "text": [
      "0.8960573476702509\n"
     ]
    }
   ],
   "source": [
    "y_true_gb2 = list(test_bal['Label'])\n",
    "accuracy_gb2 = accuracy_score(y_true_gb2, y_predict_gb2, normalize=True)\n",
    "print(accuracy_gb2)"
   ]
  },
  {
   "cell_type": "markdown",
   "metadata": {},
   "source": [
    "### GB Important Features <a class=\"anchor\" id=\"section_3_2_5\"></a>"
   ]
  },
  {
   "cell_type": "code",
   "execution_count": 49,
   "metadata": {},
   "outputs": [
    {
     "data": {
      "image/png": "[encoded data removed]",
      "text/plain": [
       "<Figure size 1152x576 with 1 Axes>"
      ]
     },
     "metadata": {
      "needs_background": "light"
     },
     "output_type": "display_data"
    }
   ],
   "source": [
    "# Ploting to show level of important factors\n",
    "f =pd.DataFrame({'feature':[None]*len(feature_use), 'coef':[None]*len(feature_use)})\n",
    "f['feature'] = feature_use\n",
    "f['importance'] = gb2.feature_importances_.reshape(-1,1)\n",
    "f = f.sort_values(by=['importance'], ascending=False)\n",
    "plt.figure(figsize=[16,8])\n",
    "sns.barplot(y=f['feature'][:25], x=f['importance'][:25], palette=\"husl\");\n",
    "plt.title('gradient boosting');"
   ]
  },
  {
   "cell_type": "markdown",
   "metadata": {},
   "source": [
    "### GB Cross Validation <a class=\"anchor\" id=\"section_3_2_6\"></a>"
   ]
  },
  {
   "cell_type": "code",
   "execution_count": 50,
   "metadata": {},
   "outputs": [],
   "source": [
    "score1_gb2 = cross_val_score(gb2, val_bal[feature_use], val_bal['Label'], cv=3, scoring='f1')"
   ]
  },
  {
   "cell_type": "code",
   "execution_count": 59,
   "metadata": {},
   "outputs": [
    {
     "name": "stdout",
     "output_type": "stream",
     "text": [
      "[0.73267327 0.77192982 0.75925926]\n"
     ]
    }
   ],
   "source": [
    "print(score1_gb2)"
   ]
  },
  {
   "cell_type": "code",
   "execution_count": 51,
   "metadata": {},
   "outputs": [],
   "source": [
    "score2_gb2 = cross_val_score(gb2, val_bal[feature_use], val_bal['Label2'], cv=3, scoring='f1')"
   ]
  },
  {
   "cell_type": "code",
   "execution_count": 52,
   "metadata": {},
   "outputs": [
    {
     "name": "stdout",
     "output_type": "stream",
     "text": [
      "[0.64285714 0.67532468 0.70886076]\n"
     ]
    }
   ],
   "source": [
    "print(score2_gb2)"
   ]
  },
  {
   "cell_type": "markdown",
   "metadata": {},
   "source": [
    "## Decision Tree <a class=\"anchor\" id=\"section_3_3\"></a>"
   ]
  },
  {
   "cell_type": "markdown",
   "metadata": {},
   "source": [
    "### DT Hold-out Validation <a class=\"anchor\" id=\"section_3_3_1\"></a>"
   ]
  },
  {
   "cell_type": "code",
   "execution_count": 53,
   "metadata": {},
   "outputs": [
    {
     "name": "stderr",
     "output_type": "stream",
     "text": [
      "C:\\Users\\VNCERT09\\anaconda3\\lib\\site-packages\\sklearn\\tree\\_classes.py:306: FutureWarning: The min_impurity_split parameter is deprecated. Its default value has changed from 1e-7 to 0 in version 0.23, and it will be removed in 0.25. Use the min_impurity_decrease parameter instead.\n",
      "  warnings.warn(\"The min_impurity_split parameter is deprecated. \"\n"
     ]
    }
   ],
   "source": [
    "# Tuning parameter\n",
    "tree2 = DecisionTreeClassifier(criterion='entropy',\n",
    "                               max_depth=11, min_samples_split=30, min_impurity_split=0.25)\n",
    "# Fit base model on training data set\n",
    "tree2.fit(train_bal[feature_use], train_bal['Label'])\n",
    "# Evaluate the model\n",
    "y_predict_tree2 = tree2.predict(test_bal[feature_use])"
   ]
  },
  {
   "cell_type": "markdown",
   "metadata": {},
   "source": [
    "### DT Confusion Matrix <a class=\"anchor\" id=\"section_3_3_2\"></a>"
   ]
  },
  {
   "cell_type": "code",
   "execution_count": 54,
   "metadata": {},
   "outputs": [
    {
     "name": "stdout",
     "output_type": "stream",
     "text": [
      "Confusion matrix, without normalization\n",
      "[[120  26]\n",
      " [ 50  83]]\n"
     ]
    },
    {
     "data": {
      "image/png": "[encoded data removed]",
      "text/plain": [
       "<Figure size 432x288 with 2 Axes>"
      ]
     },
     "metadata": {
      "needs_background": "light"
     },
     "output_type": "display_data"
    }
   ],
   "source": [
    "# Plot confusion matrix without normalization\n",
    "cfm_tree2 = confusion_matrix(test_bal['Label'], y_predict_tree2)\n",
    "plot_confusion_matrix(cfm_tree2, classes=[1,0], normalize=False)"
   ]
  },
  {
   "cell_type": "markdown",
   "metadata": {},
   "source": [
    "### DT Classification Report <a class=\"anchor\" id=\"section_3_3_3\"></a>"
   ]
  },
  {
   "cell_type": "code",
   "execution_count": 55,
   "metadata": {},
   "outputs": [
    {
     "name": "stdout",
     "output_type": "stream",
     "text": [
      "              precision    recall  f1-score   support\n",
      "\n",
      "           0       0.71      0.82      0.76       146\n",
      "           1       0.76      0.62      0.69       133\n",
      "\n",
      "    accuracy                           0.73       279\n",
      "   macro avg       0.73      0.72      0.72       279\n",
      "weighted avg       0.73      0.73      0.72       279\n",
      "\n"
     ]
    }
   ],
   "source": [
    "# Classification report for label and prediction\n",
    "print(classification_report(test_bal['Label'], y_predict_tree2))"
   ]
  },
  {
   "cell_type": "markdown",
   "metadata": {},
   "source": [
    "### DT Accuracy Score <a class=\"anchor\" id=\"section_3_3_4\"></a>"
   ]
  },
  {
   "cell_type": "code",
   "execution_count": 56,
   "metadata": {},
   "outputs": [
    {
     "name": "stdout",
     "output_type": "stream",
     "text": [
      "0.7275985663082437\n"
     ]
    }
   ],
   "source": [
    "y_true_tree2 = list(test_bal['Label'])\n",
    "accuracy_tree2 = accuracy_score(y_true_tree2, y_predict_tree2, normalize=True)\n",
    "print(accuracy_tree2)"
   ]
  },
  {
   "cell_type": "markdown",
   "metadata": {},
   "source": [
    "### DT Important Features <a class=\"anchor\" id=\"section_3_3_5\"></a>"
   ]
  },
  {
   "cell_type": "code",
   "execution_count": 57,
   "metadata": {},
   "outputs": [
    {
     "data": {
      "image/png": "[encoded data removed]",
      "text/plain": [
       "<Figure size 1152x576 with 1 Axes>"
      ]
     },
     "metadata": {
      "needs_background": "light"
     },
     "output_type": "display_data"
    }
   ],
   "source": [
    "# Ploting to show level of important factors\n",
    "f =pd.DataFrame({'feature':[None]*len(feature_use), 'coef':[None]*len(feature_use)})\n",
    "f['feature'] = feature_use\n",
    "f['importance'] = tree2.feature_importances_.reshape(-1,1)\n",
    "f = f.sort_values(by=['importance'], ascending=False)\n",
    "plt.figure(figsize=[16,8])\n",
    "sns.barplot(y=f['feature'][:25], x=f['importance'][:25], palette=\"husl\");\n",
    "plt.title('decision tree');"
   ]
  },
  {
   "cell_type": "markdown",
   "metadata": {},
   "source": [
    "### DT ROC Curve <a class=\"anchor\" id=\"section_3_3_6\"></a>"
   ]
  },
  {
   "cell_type": "code",
   "execution_count": 58,
   "metadata": {},
   "outputs": [
    {
     "name": "stdout",
     "output_type": "stream",
     "text": [
      "\n",
      "        Training AUC: 0.9151227013298164\n",
      "        Testing AUC: 0.7787619734267174\n"
     ]
    },
    {
     "data": {
      "image/png": "[encoded data removed]",
      "text/plain": [
       "<Figure size 432x288 with 1 Axes>"
      ]
     },
     "metadata": {
      "needs_background": "light"
     },
     "output_type": "display_data"
    }
   ],
   "source": [
    "plot_roc_curve(test_bal['Label'], get_auc_scores(tree2, train_bal[feature_use], test_bal[feature_use], train_bal['Label'], test_bal['Label']))"
   ]
  },
  {
   "cell_type": "markdown",
   "metadata": {},
   "source": [
    "# Results Comparison of Balanced and Imbalanced Dataset <a class=\"anchor\" id=\"chapter4\"></a>"
   ]
  },
  {
   "cell_type": "markdown",
   "metadata": {},
   "source": [
    "## Logistic Regression <a class=\"anchor\" id=\"section_4_1\"></a>"
   ]
  },
  {
   "cell_type": "markdown",
   "metadata": {},
   "source": [
    "## Gradient Boosting <a class=\"anchor\" id=\"section_4_2\"></a>"
   ]
  },
  {
   "cell_type": "markdown",
   "metadata": {},
   "source": [
    "## Decision Tree <a class=\"anchor\" id=\"section_4_3\"></a>"
   ]
  },
  {
   "cell_type": "code",
   "execution_count": null,
   "metadata": {},
   "outputs": [],
   "source": []
  },
  {
   "cell_type": "code",
   "execution_count": null,
   "metadata": {},
   "outputs": [],
   "source": []
  }
 ],
 "metadata": {
  "kernelspec": {
   "display_name": "Python 3",
   "language": "python",
   "name": "python3"
  },
  "language_info": {
   "codemirror_mode": {
    "name": "ipython",
    "version": 3
   },
   "file_extension": ".py",
   "mimetype": "text/x-python",
   "name": "python",
   "nbconvert_exporter": "python",
   "pygments_lexer": "ipython3",
   "version": "3.8.5"
  }
 },
 "nbformat": 4,
 "nbformat_minor": 4
}
